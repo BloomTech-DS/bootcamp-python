{
  "nbformat": 4,
  "nbformat_minor": 0,
  "metadata": {
    "colab": {
      "name": "Bootcamp_80.ipynb",
      "provenance": [],
      "authorship_tag": "ABX9TyONQCi9a4SJoV5XWdwoNGac",
      "include_colab_link": true
    },
    "kernelspec": {
      "name": "python3",
      "display_name": "Python 3"
    },
    "language_info": {
      "name": "python"
    }
  },
  "cells": [
    {
      "cell_type": "markdown",
      "metadata": {
        "id": "view-in-github",
        "colab_type": "text"
      },
      "source": [
        "<a href=\"https://colab.research.google.com/github/BloomTech-DS/bootcamp-python/blob/main/Bootcamp_80.ipynb\" target=\"_parent\"><img src=\"https://colab.research.google.com/assets/colab-badge.svg\" alt=\"Open In Colab\"/></a>"
      ]
    },
    {
      "cell_type": "markdown",
      "source": [
        "# 80. Errors and Exception Handling"
      ],
      "metadata": {
        "id": "PgaLPlTibqHL"
      }
    },
    {
      "cell_type": "code",
      "execution_count": null,
      "metadata": {
        "id": "0AQIyK5TL_ZZ"
      },
      "outputs": [],
      "source": [
        "def add (n1, n2):\n",
        "  print(n1+n2)"
      ]
    },
    {
      "cell_type": "code",
      "source": [
        "add(10, 20)"
      ],
      "metadata": {
        "colab": {
          "base_uri": "https://localhost:8080/"
        },
        "id": "-6MA_ujnb7vc",
        "outputId": "3b5eb1ff-23b3-410e-d903-4d389654ac4e"
      },
      "execution_count": null,
      "outputs": [
        {
          "output_type": "stream",
          "name": "stdout",
          "text": [
            "30\n"
          ]
        }
      ]
    },
    {
      "cell_type": "code",
      "source": [
        "number1 = 10"
      ],
      "metadata": {
        "id": "49LG1rOxb935"
      },
      "execution_count": null,
      "outputs": []
    },
    {
      "cell_type": "code",
      "source": [
        "number2 = input(\"Please provide a number: \")"
      ],
      "metadata": {
        "colab": {
          "base_uri": "https://localhost:8080/"
        },
        "id": "1h3J4FIbcBbS",
        "outputId": "91aab77c-775e-4bdd-fedb-01fd46eab9c8"
      },
      "execution_count": null,
      "outputs": [
        {
          "name": "stdout",
          "output_type": "stream",
          "text": [
            "Please provide a number: 20\n"
          ]
        }
      ]
    },
    {
      "cell_type": "code",
      "source": [
        "try:\n",
        "  # WANT TO ATTEMPT THIS CODE\n",
        "  # MAY HAVE AN ERROR\n",
        "  add(number1, number2)\n",
        "  print(\"Something happed!\")\n",
        "except:\n",
        "  print(\"Hey it looks like you aren't adding correctly!\")\n",
        "else:\n",
        "  print (\"Add went well!\")\n",
        "  "
      ],
      "metadata": {
        "colab": {
          "base_uri": "https://localhost:8080/"
        },
        "id": "y3GYOblIcR_b",
        "outputId": "4bb57530-fabc-4db7-c30c-e8fbfb1cf7d4"
      },
      "execution_count": null,
      "outputs": [
        {
          "output_type": "stream",
          "name": "stdout",
          "text": [
            "Hey it looks like you aren't adding correctly!\n"
          ]
        }
      ]
    },
    {
      "cell_type": "code",
      "source": [
        "try:\n",
        "  # WANT TO ATTEMPT THIS CODE\n",
        "  # MAY HAVE AN ERROR\n",
        "  result = 10 + 10\n",
        "except:\n",
        "  print(\"Hey it looks like you aren't adding correctly!\")\n",
        "else:\n",
        "  print (\"Add went well!\")\n",
        "  print(result)"
      ],
      "metadata": {
        "colab": {
          "base_uri": "https://localhost:8080/"
        },
        "id": "qY-HAcVmcfR_",
        "outputId": "9dff0d6b-67c4-40ec-a7d2-852633b7af68"
      },
      "execution_count": null,
      "outputs": [
        {
          "output_type": "stream",
          "name": "stdout",
          "text": [
            "Add went well!\n",
            "20\n"
          ]
        }
      ]
    },
    {
      "cell_type": "code",
      "source": [
        "result"
      ],
      "metadata": {
        "colab": {
          "base_uri": "https://localhost:8080/"
        },
        "id": "TtI59F5bdd6m",
        "outputId": "1ba24ea6-3a90-4211-aaa0-b90a97d3e297"
      },
      "execution_count": null,
      "outputs": [
        {
          "output_type": "execute_result",
          "data": {
            "text/plain": [
              "20"
            ]
          },
          "metadata": {},
          "execution_count": 14
        }
      ]
    },
    {
      "cell_type": "code",
      "source": [
        "try:\n",
        "  f = open('testfile', 'w')\n",
        "  f.write(\"Write a test line\")\n",
        "except TypeError:\n",
        "  print(\"There was a type error!\")\n",
        "except:\n",
        "  print(\"All other exceptions!\")\n",
        "finally:\n",
        "  print(\"I always run\")"
      ],
      "metadata": {
        "colab": {
          "base_uri": "https://localhost:8080/"
        },
        "id": "S6-veOn4dmSH",
        "outputId": "2c0d0808-eb9e-49a5-c314-ec9c805d8323"
      },
      "execution_count": null,
      "outputs": [
        {
          "output_type": "stream",
          "name": "stdout",
          "text": [
            "I always run\n"
          ]
        }
      ]
    },
    {
      "cell_type": "code",
      "source": [
        "def ask_for_int():\n",
        "  try:\n",
        "    result = int(input(\"Please provide number: \"))\n",
        "  except:\n",
        "    print(\"Whoops! That is not a number\")\n",
        "  finally:\n",
        "    print(\"End of try/except/finally\")"
      ],
      "metadata": {
        "id": "pimNFbPEfQFu"
      },
      "execution_count": 3,
      "outputs": []
    },
    {
      "cell_type": "code",
      "source": [
        "ask_for_int()"
      ],
      "metadata": {
        "colab": {
          "base_uri": "https://localhost:8080/"
        },
        "id": "4vXu--7KFC70",
        "outputId": "38da2f8d-846e-4856-e5d7-ef36d2849bad"
      },
      "execution_count": 4,
      "outputs": [
        {
          "output_type": "stream",
          "name": "stdout",
          "text": [
            "Please provide number: 20\n",
            "End of try/except/finally\n"
          ]
        }
      ]
    },
    {
      "cell_type": "code",
      "source": [
        "def ask_for_int():\n",
        "  while True:\n",
        "    try:\n",
        "      result = int(input(\"Please provide number: \"))\n",
        "    except:\n",
        "      print(\"Whoops! That is not a number\")\n",
        "      continue\n",
        "    else:\n",
        "      print(\"Yes thank you\")\n",
        "      break\n",
        "    finally:\n",
        "      print(\"End of try/except/finally\")\n",
        "      print(\"I will always run at the end!\")"
      ],
      "metadata": {
        "id": "DMzwB6lfFY3B"
      },
      "execution_count": 5,
      "outputs": []
    },
    {
      "cell_type": "code",
      "source": [
        "ask_for_int()"
      ],
      "metadata": {
        "colab": {
          "base_uri": "https://localhost:8080/"
        },
        "id": "IZm0t4TiHwnc",
        "outputId": "48bf58ed-b6e9-4ebc-abf9-655df38a10fb"
      },
      "execution_count": 6,
      "outputs": [
        {
          "output_type": "stream",
          "name": "stdout",
          "text": [
            "Please provide number: df\n",
            "Whoops! That is not a number\n",
            "End of try/except/finally\n",
            "I will always run at the end!\n",
            "Please provide number: 34\n",
            "Yes thank you\n",
            "End of try/except/finally\n",
            "I will always run at the end!\n"
          ]
        }
      ]
    },
    {
      "cell_type": "code",
      "source": [
        ""
      ],
      "metadata": {
        "id": "U6sM-PZGHzc5"
      },
      "execution_count": null,
      "outputs": []
    }
  ]
}