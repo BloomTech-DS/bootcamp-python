{
  "nbformat": 4,
  "nbformat_minor": 0,
  "metadata": {
    "colab": {
      "name": "Bootcamp_44.ipynb",
      "provenance": [],
      "authorship_tag": "ABX9TyNQH0HVImk8qFBQtfjRQkM+",
      "include_colab_link": true
    },
    "kernelspec": {
      "name": "python3",
      "display_name": "Python 3"
    },
    "language_info": {
      "name": "python"
    }
  },
  "cells": [
    {
      "cell_type": "markdown",
      "metadata": {
        "id": "view-in-github",
        "colab_type": "text"
      },
      "source": [
        "<a href=\"https://colab.research.google.com/github/rjgeng/colab-python/blob/main/Bootcamp_44.ipynb\" target=\"_parent\"><img src=\"https://colab.research.google.com/assets/colab-badge.svg\" alt=\"Open In Colab\"/></a>"
      ]
    },
    {
      "cell_type": "code",
      "execution_count": 1,
      "metadata": {
        "id": "uAnmXHAl4jaO"
      },
      "outputs": [],
      "source": [
        "def say_hello():\n",
        "  print('hello')"
      ]
    },
    {
      "cell_type": "code",
      "source": [
        "say_hello()"
      ],
      "metadata": {
        "colab": {
          "base_uri": "https://localhost:8080/"
        },
        "id": "B0eoEnBH42y6",
        "outputId": "55ef5d27-f654-4d55-a8ee-400890e06a96"
      },
      "execution_count": 3,
      "outputs": [
        {
          "output_type": "stream",
          "name": "stdout",
          "text": [
            "hello\n"
          ]
        }
      ]
    },
    {
      "cell_type": "code",
      "source": [
        "def say_hello(name):\n",
        "  print(f'Hello {name}')"
      ],
      "metadata": {
        "id": "1pWuIyJi48pQ"
      },
      "execution_count": 4,
      "outputs": []
    },
    {
      "cell_type": "code",
      "source": [
        "say_hello('Jose')"
      ],
      "metadata": {
        "colab": {
          "base_uri": "https://localhost:8080/"
        },
        "id": "Bct0q-5H5Mnx",
        "outputId": "9f80dd31-517d-4b14-b58e-a23e3c3da919"
      },
      "execution_count": 5,
      "outputs": [
        {
          "output_type": "stream",
          "name": "stdout",
          "text": [
            "Hello Jose\n"
          ]
        }
      ]
    },
    {
      "cell_type": "code",
      "source": [
        "def say_hello(name = 'Default'):\n",
        "  print(f'Hello {name}')"
      ],
      "metadata": {
        "id": "ZnnGpGKH5QdX"
      },
      "execution_count": 6,
      "outputs": []
    },
    {
      "cell_type": "code",
      "source": [
        "say_hello()"
      ],
      "metadata": {
        "colab": {
          "base_uri": "https://localhost:8080/"
        },
        "id": "WyDGY0-p5ftI",
        "outputId": "e10857d2-9ec6-4a09-ce60-afa3fb17c3c2"
      },
      "execution_count": 7,
      "outputs": [
        {
          "output_type": "stream",
          "name": "stdout",
          "text": [
            "Hello Default\n"
          ]
        }
      ]
    },
    {
      "cell_type": "code",
      "source": [
        "def add_num(num1, num2):\n",
        "  return num1+num2"
      ],
      "metadata": {
        "id": "YaXKtDjB5hgQ"
      },
      "execution_count": 8,
      "outputs": []
    },
    {
      "cell_type": "code",
      "source": [
        "add_num(2,3)"
      ],
      "metadata": {
        "colab": {
          "base_uri": "https://localhost:8080/"
        },
        "id": "BLnj8ult7qD-",
        "outputId": "536811e2-8b54-461b-e442-61af72268203"
      },
      "execution_count": 9,
      "outputs": [
        {
          "output_type": "execute_result",
          "data": {
            "text/plain": [
              "5"
            ]
          },
          "metadata": {},
          "execution_count": 9
        }
      ]
    },
    {
      "cell_type": "code",
      "source": [
        "result = add_num(10, 20)"
      ],
      "metadata": {
        "id": "I_F2PYlB83Hz"
      },
      "execution_count": 15,
      "outputs": []
    },
    {
      "cell_type": "code",
      "source": [
        "result"
      ],
      "metadata": {
        "colab": {
          "base_uri": "https://localhost:8080/"
        },
        "id": "A9jrFNBB9D81",
        "outputId": "313066be-1c29-491c-eb6c-75b38a6cea3a"
      },
      "execution_count": 16,
      "outputs": [
        {
          "output_type": "execute_result",
          "data": {
            "text/plain": [
              "30"
            ]
          },
          "metadata": {},
          "execution_count": 16
        }
      ]
    },
    {
      "cell_type": "code",
      "source": [
        "def print_result(a,b):\n",
        "  print(a+b)"
      ],
      "metadata": {
        "id": "125ImFKb7sy7"
      },
      "execution_count": 10,
      "outputs": []
    },
    {
      "cell_type": "code",
      "source": [
        "def return_result(a, b):\n",
        "  return a+b"
      ],
      "metadata": {
        "id": "h1s5qYtL8KFX"
      },
      "execution_count": 11,
      "outputs": []
    },
    {
      "cell_type": "code",
      "source": [
        "print_result(10, 30)"
      ],
      "metadata": {
        "colab": {
          "base_uri": "https://localhost:8080/"
        },
        "id": "a2T7B3078QNs",
        "outputId": "97bb6a77-608d-4503-d0a0-843604149e64"
      },
      "execution_count": 12,
      "outputs": [
        {
          "output_type": "stream",
          "name": "stdout",
          "text": [
            "40\n"
          ]
        }
      ]
    },
    {
      "cell_type": "code",
      "source": [
        "result = print_result(10, 20)"
      ],
      "metadata": {
        "colab": {
          "base_uri": "https://localhost:8080/"
        },
        "id": "jgkKOBW18VPo",
        "outputId": "cd46c59b-0bdc-4dec-feaa-491222a2d3a6"
      },
      "execution_count": 17,
      "outputs": [
        {
          "output_type": "stream",
          "name": "stdout",
          "text": [
            "30\n"
          ]
        }
      ]
    },
    {
      "cell_type": "code",
      "source": [
        "result"
      ],
      "metadata": {
        "id": "eBlFqZCr9RnW"
      },
      "execution_count": 18,
      "outputs": []
    },
    {
      "cell_type": "code",
      "source": [
        "type(result)"
      ],
      "metadata": {
        "colab": {
          "base_uri": "https://localhost:8080/"
        },
        "id": "2g9_QQRu9TaN",
        "outputId": "2a716eb7-910a-414d-8e6a-982d55471008"
      },
      "execution_count": 19,
      "outputs": [
        {
          "output_type": "execute_result",
          "data": {
            "text/plain": [
              "NoneType"
            ]
          },
          "metadata": {},
          "execution_count": 19
        }
      ]
    },
    {
      "cell_type": "code",
      "source": [
        "return_result(10, 20)"
      ],
      "metadata": {
        "colab": {
          "base_uri": "https://localhost:8080/"
        },
        "id": "-oTE86VM9WM1",
        "outputId": "f38a85ed-71aa-45e5-92c1-ced5e7ea93aa"
      },
      "execution_count": 20,
      "outputs": [
        {
          "output_type": "execute_result",
          "data": {
            "text/plain": [
              "30"
            ]
          },
          "metadata": {},
          "execution_count": 20
        }
      ]
    },
    {
      "cell_type": "code",
      "source": [
        "result = return_result(10, 30)"
      ],
      "metadata": {
        "id": "BD5vvV899diW"
      },
      "execution_count": 22,
      "outputs": []
    },
    {
      "cell_type": "code",
      "source": [
        "result"
      ],
      "metadata": {
        "colab": {
          "base_uri": "https://localhost:8080/"
        },
        "id": "ermRWbWI9esH",
        "outputId": "726f9214-8668-4af0-89f8-b4e2404d7dbe"
      },
      "execution_count": 23,
      "outputs": [
        {
          "output_type": "execute_result",
          "data": {
            "text/plain": [
              "40"
            ]
          },
          "metadata": {},
          "execution_count": 23
        }
      ]
    },
    {
      "cell_type": "code",
      "source": [
        "def myfunc(a, b):\n",
        "  print(a+b)\n",
        "  return a+b"
      ],
      "metadata": {
        "id": "RbEVAqry9roP"
      },
      "execution_count": 24,
      "outputs": []
    },
    {
      "cell_type": "code",
      "source": [
        "result = myfunc(10, 20)"
      ],
      "metadata": {
        "colab": {
          "base_uri": "https://localhost:8080/"
        },
        "id": "ocJln8bn97yJ",
        "outputId": "70745f67-54a0-4240-dedb-fcfee73eb829"
      },
      "execution_count": 25,
      "outputs": [
        {
          "output_type": "stream",
          "name": "stdout",
          "text": [
            "30\n"
          ]
        }
      ]
    },
    {
      "cell_type": "code",
      "source": [
        "result"
      ],
      "metadata": {
        "colab": {
          "base_uri": "https://localhost:8080/"
        },
        "id": "tHfFP6Py9_0m",
        "outputId": "fbce85b9-0263-4ff3-95be-00e22129e430"
      },
      "execution_count": 26,
      "outputs": [
        {
          "output_type": "execute_result",
          "data": {
            "text/plain": [
              "30"
            ]
          },
          "metadata": {},
          "execution_count": 26
        }
      ]
    },
    {
      "cell_type": "code",
      "source": [
        "def sum_somethings(thing1, thing2):\n",
        "  return thing1+thing2"
      ],
      "metadata": {
        "id": "GwJ3xLm5-BGu"
      },
      "execution_count": 27,
      "outputs": []
    },
    {
      "cell_type": "code",
      "source": [
        "sum_somethings(10, 20)\n"
      ],
      "metadata": {
        "colab": {
          "base_uri": "https://localhost:8080/"
        },
        "id": "C8div3QT-0uv",
        "outputId": "df1e829b-2c9e-4184-fda9-3f5ce2e420ca"
      },
      "execution_count": 28,
      "outputs": [
        {
          "output_type": "execute_result",
          "data": {
            "text/plain": [
              "30"
            ]
          },
          "metadata": {},
          "execution_count": 28
        }
      ]
    },
    {
      "cell_type": "code",
      "source": [
        "sum_somethings('10', '20')"
      ],
      "metadata": {
        "colab": {
          "base_uri": "https://localhost:8080/",
          "height": 35
        },
        "id": "aqSMPv7i--ov",
        "outputId": "b60a904e-26ba-4302-b66c-1546560faf33"
      },
      "execution_count": 29,
      "outputs": [
        {
          "output_type": "execute_result",
          "data": {
            "text/plain": [
              "'1020'"
            ],
            "application/vnd.google.colaboratory.intrinsic+json": {
              "type": "string"
            }
          },
          "metadata": {},
          "execution_count": 29
        }
      ]
    },
    {
      "cell_type": "code",
      "source": [
        ""
      ],
      "metadata": {
        "id": "UC2jSAo6_DQ8"
      },
      "execution_count": null,
      "outputs": []
    }
  ]
}