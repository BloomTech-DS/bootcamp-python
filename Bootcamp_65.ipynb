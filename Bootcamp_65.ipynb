{
  "nbformat": 4,
  "nbformat_minor": 0,
  "metadata": {
    "colab": {
      "name": "Bootcamp_65.ipynb",
      "provenance": [],
      "authorship_tag": "ABX9TyPTbUyRm/ATYIQ9K48UD5l3",
      "include_colab_link": true
    },
    "kernelspec": {
      "name": "python3",
      "display_name": "Python 3"
    },
    "language_info": {
      "name": "python"
    }
  },
  "cells": [
    {
      "cell_type": "markdown",
      "metadata": {
        "id": "view-in-github",
        "colab_type": "text"
      },
      "source": [
        "<a href=\"https://colab.research.google.com/github/BloomTech-DS/bootcamp-python/blob/main/Bootcamp_65.ipynb\" target=\"_parent\"><img src=\"https://colab.research.google.com/assets/colab-badge.svg\" alt=\"Open In Colab\"/></a>"
      ]
    },
    {
      "cell_type": "code",
      "source": [
        ""
      ],
      "metadata": {
        "id": "rKYv3nrG4EAE"
      },
      "execution_count": null,
      "outputs": []
    },
    {
      "cell_type": "code",
      "execution_count": null,
      "metadata": {
        "id": "G9WcgeBezxBg"
      },
      "outputs": [],
      "source": [
        "from IPython.display import clear_output\n",
        "\n",
        "def display_board(board):\n",
        "  print(board[7]+'|'+board[8]+'|'+board[9])\n",
        "  print(board[4]+'|'+board[5]+'|'+board[6])\n",
        "  print(board[1]+'|'+board[2]+'|'+board[3])"
      ]
    },
    {
      "cell_type": "code",
      "source": [
        "test_board = ['#','X','O','X','O','X','O','X','O','X']\n",
        "display_board(test_board)"
      ],
      "metadata": {
        "colab": {
          "base_uri": "https://localhost:8080/"
        },
        "id": "j9YU68Oy0hlh",
        "outputId": "f974ecc4-8498-489d-b037-cdcdeaf74ee7"
      },
      "execution_count": null,
      "outputs": [
        {
          "output_type": "stream",
          "name": "stdout",
          "text": [
            "X|O|X\n",
            "O|X|O\n",
            "X|O|X\n"
          ]
        }
      ]
    },
    {
      "cell_type": "code",
      "source": [
        "def player_input():\n",
        "\n",
        "  marker = ''\n",
        "\n",
        "  # KEEP ASKING PLAYER 1 to choose X or O\n",
        "\n",
        "  while marker != 'X' and marker != 'O':\n",
        "    marker = input('Player 1, choose X or O: ')\n",
        "\n",
        "  # ASSIGN PLAYER 2, the opposite marker\n",
        "  player1 = marker\n",
        "\n",
        "  if player1 == 'X':\n",
        "    player2 = 'O'\n",
        "  else: \n",
        "    player2 = 'X'\n",
        "\n",
        "  return (player1, player2)"
      ],
      "metadata": {
        "id": "1ufjqIhf0pQ-"
      },
      "execution_count": null,
      "outputs": []
    },
    {
      "cell_type": "code",
      "source": [
        "player1_marker, player2_marker = player_input()"
      ],
      "metadata": {
        "colab": {
          "base_uri": "https://localhost:8080/"
        },
        "id": "T-1j02sc2xmP",
        "outputId": "f48f2b6e-e973-4631-f774-b9578fcbff1a"
      },
      "execution_count": null,
      "outputs": [
        {
          "name": "stdout",
          "output_type": "stream",
          "text": [
            "Player 1, choose X or O: O\n"
          ]
        }
      ]
    },
    {
      "cell_type": "code",
      "source": [
        "player2_marker"
      ],
      "metadata": {
        "colab": {
          "base_uri": "https://localhost:8080/",
          "height": 35
        },
        "id": "h7sQjit520PS",
        "outputId": "e5c942b7-1511-4f11-d37f-80d7efb80fdb"
      },
      "execution_count": null,
      "outputs": [
        {
          "output_type": "execute_result",
          "data": {
            "text/plain": [
              "'X'"
            ],
            "application/vnd.google.colaboratory.intrinsic+json": {
              "type": "string"
            }
          },
          "metadata": {},
          "execution_count": 6
        }
      ]
    },
    {
      "cell_type": "code",
      "source": [
        ""
      ],
      "metadata": {
        "id": "7od_pdjj3T3m"
      },
      "execution_count": null,
      "outputs": []
    }
  ]
}