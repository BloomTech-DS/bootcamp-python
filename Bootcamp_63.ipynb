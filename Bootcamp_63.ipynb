{
  "nbformat": 4,
  "nbformat_minor": 0,
  "metadata": {
    "colab": {
      "name": "Bootcamp_63.ipynb",
      "provenance": [],
      "authorship_tag": "ABX9TyNbBCFd3kbxIscL6efmJBqL",
      "include_colab_link": true
    },
    "kernelspec": {
      "name": "python3",
      "display_name": "Python 3"
    },
    "language_info": {
      "name": "python"
    }
  },
  "cells": [
    {
      "cell_type": "markdown",
      "metadata": {
        "id": "view-in-github",
        "colab_type": "text"
      },
      "source": [
        "<a href=\"https://colab.research.google.com/github/BloomTech-DS/bootcamp-python/blob/main/Bootcamp_63.ipynb\" target=\"_parent\"><img src=\"https://colab.research.google.com/assets/colab-badge.svg\" alt=\"Open In Colab\"/></a>"
      ]
    },
    {
      "cell_type": "markdown",
      "source": [
        "# 63. Simple User Interaction"
      ],
      "metadata": {
        "id": "o4VQSdslgOYw"
      }
    },
    {
      "cell_type": "code",
      "execution_count": 4,
      "metadata": {
        "id": "La25llJggLHl"
      },
      "outputs": [],
      "source": [
        "game_list = [0, 1, 2]"
      ]
    },
    {
      "cell_type": "code",
      "source": [
        "def display_game(game_list):\n",
        "  print(\"Here is the current list: \")\n",
        "  print(game_list)"
      ],
      "metadata": {
        "id": "tQ7TXgN6gbCm"
      },
      "execution_count": 5,
      "outputs": []
    },
    {
      "cell_type": "code",
      "source": [
        "display_game(game_list)"
      ],
      "metadata": {
        "id": "Ri6ELMdLg1ms",
        "colab": {
          "base_uri": "https://localhost:8080/"
        },
        "outputId": "9afb351a-e611-4db4-8152-74a869f73d4e"
      },
      "execution_count": 6,
      "outputs": [
        {
          "output_type": "stream",
          "name": "stdout",
          "text": [
            "Here is the current list: \n",
            "[0, 1, 2]\n"
          ]
        }
      ]
    },
    {
      "cell_type": "code",
      "source": [
        "def position_choice():\n",
        "\n",
        "  choice = 'wrong'\n",
        "\n",
        "  while choice not in ['0', '1', '2']:\n",
        "\n",
        "    choice = input(\"Pick a position (0, 1, 2): \")\n",
        "\n",
        "    if choice not in ['0', '1', '2']:\n",
        "      print(\"Sorry, invalid choice! \")\n",
        "\n",
        "  return int (choice)"
      ],
      "metadata": {
        "id": "L7nC0hUmg6wW"
      },
      "execution_count": 7,
      "outputs": []
    },
    {
      "cell_type": "code",
      "source": [
        "position_choice()"
      ],
      "metadata": {
        "colab": {
          "base_uri": "https://localhost:8080/"
        },
        "id": "inHOO-H_jdWo",
        "outputId": "9451d7a0-1e77-4c8a-b76c-45a2b24688c3"
      },
      "execution_count": 8,
      "outputs": [
        {
          "name": "stdout",
          "output_type": "stream",
          "text": [
            "Pick a position (0, 1, 2): 2\n"
          ]
        },
        {
          "output_type": "execute_result",
          "data": {
            "text/plain": [
              "2"
            ]
          },
          "metadata": {},
          "execution_count": 8
        }
      ]
    },
    {
      "cell_type": "code",
      "source": [
        "def replacement_choice(game_list, position):\n",
        "\n",
        "  user_placement = input(\"Type a string to place at position: \")\n",
        "\n",
        "  game_list[position] = user_placement\n",
        "\n",
        "  return game_list"
      ],
      "metadata": {
        "id": "gT1rc1dzjhEv"
      },
      "execution_count": 9,
      "outputs": []
    },
    {
      "cell_type": "code",
      "source": [
        "replacement_choice(game_list, 1)"
      ],
      "metadata": {
        "colab": {
          "base_uri": "https://localhost:8080/"
        },
        "id": "wRLQbRzBkon8",
        "outputId": "21f484a7-6b96-46a2-f362-08debed82e3b"
      },
      "execution_count": 10,
      "outputs": [
        {
          "name": "stdout",
          "output_type": "stream",
          "text": [
            "Type a string to place at position: test\n"
          ]
        },
        {
          "output_type": "execute_result",
          "data": {
            "text/plain": [
              "[0, 'test', 2]"
            ]
          },
          "metadata": {},
          "execution_count": 10
        }
      ]
    },
    {
      "cell_type": "code",
      "source": [
        "def gameon_choice():\n",
        "\n",
        "  choice = 'wrong'\n",
        "\n",
        "  while choice not in ['Y', 'N']:\n",
        "\n",
        "    choice = input(\"Keep playing? (Y or N) \")\n",
        "\n",
        "    if choice not in ['Y', 'N']:\n",
        "      print(\"Sorry, I don't understand, please choose Y or N\")\n",
        "\n",
        "  if choice == \"Y\":\n",
        "    return True\n",
        "  else:\n",
        "    return False"
      ],
      "metadata": {
        "id": "B8MuRiB1kvFI"
      },
      "execution_count": 11,
      "outputs": []
    },
    {
      "cell_type": "code",
      "source": [
        "gameon_choice()"
      ],
      "metadata": {
        "colab": {
          "base_uri": "https://localhost:8080/"
        },
        "id": "hANqj8btrlx2",
        "outputId": "95b4463c-b971-4150-9013-09620d05760c"
      },
      "execution_count": 12,
      "outputs": [
        {
          "name": "stdout",
          "output_type": "stream",
          "text": [
            "Keep playing? (Y or N) Y\n"
          ]
        },
        {
          "output_type": "execute_result",
          "data": {
            "text/plain": [
              "True"
            ]
          },
          "metadata": {},
          "execution_count": 12
        }
      ]
    },
    {
      "cell_type": "code",
      "source": [
        "game_on = True\n",
        "game_list = [0, 1, 2]\n",
        "\n",
        "while game_on:\n",
        "\n",
        "  display_game(game_list)\n",
        "\n",
        "  position = position_choice()\n",
        "\n",
        "  game_list = replacement_choice(game_list, position)\n",
        "\n",
        "  display_game(game_list)\n",
        "\n",
        "  game_on = gameon_choice()"
      ],
      "metadata": {
        "colab": {
          "base_uri": "https://localhost:8080/"
        },
        "id": "fc2PDW5Rrp8i",
        "outputId": "f27f5d07-fec1-4d77-e9fe-1e63eae9e86d"
      },
      "execution_count": 14,
      "outputs": [
        {
          "name": "stdout",
          "output_type": "stream",
          "text": [
            "Here is the current list: \n",
            "[0, 1, 2]\n",
            "Pick a position (0, 1, 2): two\n",
            "Sorry, invalid choice! \n",
            "Pick a position (0, 1, 2): 1\n",
            "Type a string to place at position: my choice\n",
            "Here is the current list: \n",
            "[0, 'my choice', 2]\n",
            "Keep playing? (Y or N) Y\n",
            "Here is the current list: \n",
            "[0, 'my choice', 2]\n",
            "Pick a position (0, 1, 2): 0\n",
            "Type a string to place at position: test\n",
            "Here is the current list: \n",
            "['test', 'my choice', 2]\n",
            "Keep playing? (Y or N) N\n"
          ]
        }
      ]
    },
    {
      "cell_type": "code",
      "source": [
        ""
      ],
      "metadata": {
        "id": "A3F_ThhasY6G"
      },
      "execution_count": null,
      "outputs": []
    }
  ]
}