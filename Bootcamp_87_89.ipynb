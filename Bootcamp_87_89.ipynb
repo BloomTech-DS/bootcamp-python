{
  "nbformat": 4,
  "nbformat_minor": 0,
  "metadata": {
    "colab": {
      "name": "Bootcamp_87-89.ipynb",
      "provenance": [],
      "authorship_tag": "ABX9TyP81kvHFSwbyZdcBJmRq/if",
      "include_colab_link": true
    },
    "kernelspec": {
      "name": "python3",
      "display_name": "Python 3"
    },
    "language_info": {
      "name": "python"
    }
  },
  "cells": [
    {
      "cell_type": "markdown",
      "metadata": {
        "id": "view-in-github",
        "colab_type": "text"
      },
      "source": [
        "<a href=\"https://colab.research.google.com/github/BloomTech-DS/bootcamp-python/blob/main/Bootcamp_87_89.ipynb\" target=\"_parent\"><img src=\"https://colab.research.google.com/assets/colab-badge.svg\" alt=\"Open In Colab\"/></a>"
      ]
    },
    {
      "cell_type": "markdown",
      "source": [
        "# Simple War Game\n",
        "\n",
        "Before we launch in to the OOP Milestone 2 Project, let's walk through together on using OOP for a more robust and complex application, such as a game. We will use Python OOP to simulate a simplified version of the game war. Two players will each start off with half the deck, then they each remove a card, compare which card has the highest value, and the player with the higher card wins both cards. In the event of a time"
      ],
      "metadata": {
        "id": "T0H9mcOmP8cy"
      }
    },
    {
      "cell_type": "markdown",
      "source": [
        "## Single Card Class\n",
        "\n",
        "### Creating a Card Class with outside variables\n",
        "\n",
        "Here we will use some outside variables that we know don't change regardless of the situation, such as a deck of cards. Regardless of what round,match, or game we're playing, we'll still need the same deck of cards."
      ],
      "metadata": {
        "id": "ZUPEycCcZTj7"
      }
    },
    {
      "cell_type": "code",
      "execution_count": 69,
      "metadata": {
        "id": "4QLvEdO1Y-j7"
      },
      "outputs": [],
      "source": [
        "##  CARD\n",
        "##  SUIT, RANK, VALUE\n",
        "import random\n",
        "suits = ('Hearts', 'Diamonds', 'Spades', 'Clubs')\n",
        "ranks = ('Two', 'Three', 'Four', 'Five', 'Six', 'Seven', 'Eight', 'Nine', 'Ten', 'Jack', 'Queen', 'King', 'Ace')\n",
        "values = {'Two':2, 'Three':3, 'Four':4, 'Five':5, 'Six':6, 'Seven':7, 'Eight':8, \n",
        "            'Nine':9, 'Ten':10, 'Jack':11, 'Queen':12, 'King':13, 'Ace':14}"
      ]
    },
    {
      "cell_type": "code",
      "source": [
        "class Card:\n",
        "\n",
        "  def __init__(self, suit, rank):\n",
        "    self.suit = suit\n",
        "    self.rank = rank\n",
        "    self.value = values[rank]\n",
        "\n",
        "  def __str__(self):\n",
        "    return self.rank + \" of \" + self.suit"
      ],
      "metadata": {
        "id": "eHg9nxUq7M5T"
      },
      "execution_count": 70,
      "outputs": []
    },
    {
      "cell_type": "code",
      "source": [
        "two_hearts =  Card(\"Hearts\", \"Two\")"
      ],
      "metadata": {
        "id": "3eHcyL3R7vOK"
      },
      "execution_count": 71,
      "outputs": []
    },
    {
      "cell_type": "code",
      "source": [
        "two_hearts"
      ],
      "metadata": {
        "colab": {
          "base_uri": "https://localhost:8080/"
        },
        "id": "v5DhvpED8AIN",
        "outputId": "029e5730-28b0-49d3-dd58-28eb83833780"
      },
      "execution_count": 72,
      "outputs": [
        {
          "output_type": "execute_result",
          "data": {
            "text/plain": [
              "<__main__.Card at 0x7fc688230350>"
            ]
          },
          "metadata": {},
          "execution_count": 72
        }
      ]
    },
    {
      "cell_type": "code",
      "source": [
        "print(two_hearts)"
      ],
      "metadata": {
        "colab": {
          "base_uri": "https://localhost:8080/"
        },
        "id": "q3-0-39u8Ey9",
        "outputId": "b2c4f093-b3c5-4813-e73d-11ecd194450f"
      },
      "execution_count": 73,
      "outputs": [
        {
          "output_type": "stream",
          "name": "stdout",
          "text": [
            "Two of Hearts\n"
          ]
        }
      ]
    },
    {
      "cell_type": "code",
      "source": [
        "two_hearts.suit"
      ],
      "metadata": {
        "colab": {
          "base_uri": "https://localhost:8080/",
          "height": 35
        },
        "id": "Mhy3UJZ08M-G",
        "outputId": "79603db5-9852-47d1-fdf8-aa9b9f9a1df2"
      },
      "execution_count": 74,
      "outputs": [
        {
          "output_type": "execute_result",
          "data": {
            "text/plain": [
              "'Hearts'"
            ],
            "application/vnd.google.colaboratory.intrinsic+json": {
              "type": "string"
            }
          },
          "metadata": {},
          "execution_count": 74
        }
      ]
    },
    {
      "cell_type": "code",
      "source": [
        "two_hearts.rank"
      ],
      "metadata": {
        "colab": {
          "base_uri": "https://localhost:8080/",
          "height": 35
        },
        "id": "m3tI1xoN8Xd_",
        "outputId": "d5096874-8233-4329-85c1-c65cf53650ee"
      },
      "execution_count": 75,
      "outputs": [
        {
          "output_type": "execute_result",
          "data": {
            "text/plain": [
              "'Two'"
            ],
            "application/vnd.google.colaboratory.intrinsic+json": {
              "type": "string"
            }
          },
          "metadata": {},
          "execution_count": 75
        }
      ]
    },
    {
      "cell_type": "code",
      "source": [
        "values = {'Two':2, 'Three':3, 'Four':4, 'Five':5, 'Six':6, 'Seven':7, 'Eight':8, \n",
        "            'Nine':9, 'Ten':10, 'Jack':11, 'Queen':12, 'King':13, 'Ace':14}"
      ],
      "metadata": {
        "id": "4d0EEmLD8mCq"
      },
      "execution_count": 76,
      "outputs": []
    },
    {
      "cell_type": "code",
      "source": [
        "values[two_hearts.rank]"
      ],
      "metadata": {
        "colab": {
          "base_uri": "https://localhost:8080/"
        },
        "id": "3ia-qAPD9GyN",
        "outputId": "48d7060e-1da0-4e66-e981-3dcacd039c7d"
      },
      "execution_count": 77,
      "outputs": [
        {
          "output_type": "execute_result",
          "data": {
            "text/plain": [
              "2"
            ]
          },
          "metadata": {},
          "execution_count": 77
        }
      ]
    },
    {
      "cell_type": "code",
      "source": [
        "three_of_clubs = Card(\"Clubs\", \"Three\")"
      ],
      "metadata": {
        "id": "wd1D1U0M9Pb9"
      },
      "execution_count": 78,
      "outputs": []
    },
    {
      "cell_type": "code",
      "source": [
        "three_of_clubs.value"
      ],
      "metadata": {
        "colab": {
          "base_uri": "https://localhost:8080/"
        },
        "id": "oW5IHa87HuRe",
        "outputId": "d0030796-d5a0-4512-8e4b-09c7f2109ad9"
      },
      "execution_count": 79,
      "outputs": [
        {
          "output_type": "execute_result",
          "data": {
            "text/plain": [
              "3"
            ]
          },
          "metadata": {},
          "execution_count": 79
        }
      ]
    },
    {
      "cell_type": "code",
      "source": [
        "two_hearts.value < three_of_clubs.value"
      ],
      "metadata": {
        "colab": {
          "base_uri": "https://localhost:8080/"
        },
        "id": "O1jB6zEyHWBm",
        "outputId": "11d89ce8-8438-44db-8510-89e1e6d43fe2"
      },
      "execution_count": 80,
      "outputs": [
        {
          "output_type": "execute_result",
          "data": {
            "text/plain": [
              "True"
            ]
          },
          "metadata": {},
          "execution_count": 80
        }
      ]
    },
    {
      "cell_type": "markdown",
      "source": [
        "## Deck Class\n",
        "\n",
        "### Using a class within another class\n",
        "\n",
        "We just created a single card, but how can we create an entire Deck of cards? Let's explore doing this with a class that utilizes the Card class."
      ],
      "metadata": {
        "id": "RK464D6KK-fV"
      }
    },
    {
      "cell_type": "code",
      "source": [
        "class Deck:\n",
        "  \n",
        "  def __init__(self):\n",
        "      # Note this only happens once upon creation of a new Deck\n",
        "      self.all_cards = [] \n",
        "      for suit in suits:\n",
        "          for rank in ranks:\n",
        "              # This assumes the Card class has already been defined!\n",
        "              self.all_cards.append(Card(suit,rank))\n",
        "\n",
        "  def shuffle(self):\n",
        "        # Note this doesn't return anything\n",
        "        random.shuffle(self.all_cards)\n",
        "\n",
        "  def deal_one(self):\n",
        "        # Note we remove one card from the list of all_cards\n",
        "        return self.all_cards.pop() "
      ],
      "metadata": {
        "id": "kOlUSQ6HIHHY"
      },
      "execution_count": 81,
      "outputs": []
    },
    {
      "cell_type": "markdown",
      "source": [
        "### Create a Deck"
      ],
      "metadata": {
        "id": "m_GMHulIQMjs"
      }
    },
    {
      "cell_type": "code",
      "source": [
        "new_deck = Deck()"
      ],
      "metadata": {
        "id": "x1LH6KVWLsu8"
      },
      "execution_count": 82,
      "outputs": []
    },
    {
      "cell_type": "code",
      "source": [
        "bottom_card = new_deck.all_cards[-1]"
      ],
      "metadata": {
        "id": "bvJDzfZYL7Wl"
      },
      "execution_count": 83,
      "outputs": []
    },
    {
      "cell_type": "code",
      "source": [
        "new_deck.shuffle()"
      ],
      "metadata": {
        "id": "WRhzsN_6N1Nz"
      },
      "execution_count": 84,
      "outputs": []
    },
    {
      "cell_type": "code",
      "source": [
        "mycard = new_deck.deal_one()"
      ],
      "metadata": {
        "id": "fpGBu-tSL-Ab"
      },
      "execution_count": 85,
      "outputs": []
    },
    {
      "cell_type": "code",
      "source": [
        "mycard"
      ],
      "metadata": {
        "colab": {
          "base_uri": "https://localhost:8080/"
        },
        "id": "YlJRVauAMYQu",
        "outputId": "55a98c34-ea58-4ee0-f5cf-01a277ebd773"
      },
      "execution_count": 87,
      "outputs": [
        {
          "output_type": "execute_result",
          "data": {
            "text/plain": [
              "<__main__.Card at 0x7fc6882302d0>"
            ]
          },
          "metadata": {},
          "execution_count": 87
        }
      ]
    },
    {
      "cell_type": "code",
      "source": [
        "print(mycard)"
      ],
      "metadata": {
        "colab": {
          "base_uri": "https://localhost:8080/"
        },
        "id": "W2PSSI8KPOY-",
        "outputId": "6aacd0f7-7e27-4f77-aaf1-bda979cdf8a7"
      },
      "execution_count": 88,
      "outputs": [
        {
          "output_type": "stream",
          "name": "stdout",
          "text": [
            "Eight of Clubs\n"
          ]
        }
      ]
    },
    {
      "cell_type": "code",
      "source": [
        "len(new_deck.all_cards)"
      ],
      "metadata": {
        "colab": {
          "base_uri": "https://localhost:8080/"
        },
        "id": "xOiYm4lhPceK",
        "outputId": "89129067-3af2-4861-bd05-66556fd0be48"
      },
      "execution_count": 90,
      "outputs": [
        {
          "output_type": "execute_result",
          "data": {
            "text/plain": [
              "51"
            ]
          },
          "metadata": {},
          "execution_count": 90
        }
      ]
    },
    {
      "cell_type": "markdown",
      "source": [
        "# Player Class\n",
        "\n",
        "Let's create a Player Class, a player should be able to hold instances of Cards, they should also be able to remove and add them from their hand. We want the Player class to be flexible enough to add one card, or many cards so we'll use a simple if check to keep it all in the same method."
      ],
      "metadata": {
        "id": "rP-315RIQBzh"
      }
    },
    {
      "cell_type": "markdown",
      "source": [
        "We'll keep this all in mind as we create the methods for the Player class.\n",
        "\n",
        "### Player Class"
      ],
      "metadata": {
        "id": "yHGDmUIaQSYj"
      }
    },
    {
      "cell_type": "code",
      "source": [
        "class Player:\n",
        "    \n",
        "    def __init__(self,name):\n",
        "        self.name = name\n",
        "        # A new player has no cards\n",
        "        self.all_cards = [] \n",
        "        \n",
        "    def remove_one(self):\n",
        "        # Note we remove one card from the list of all_cards\n",
        "        # We state 0 to remove from the \"top\" of the deck\n",
        "        # We'll imagine index -1 as the bottom of the deck\n",
        "        return self.all_cards.pop(0)\n",
        "    \n",
        "    def add_cards(self,new_cards):\n",
        "        if type(new_cards) == type([]):\n",
        "            self.all_cards.extend(new_cards)\n",
        "        else:\n",
        "            self.all_cards.append(new_cards)\n",
        "    \n",
        "    \n",
        "    def __str__(self):\n",
        "        return f'Player {self.name} has {len(self.all_cards)} cards.'"
      ],
      "metadata": {
        "id": "qHJP7zbTPiEv"
      },
      "execution_count": 91,
      "outputs": []
    },
    {
      "cell_type": "code",
      "source": [
        "new_player = Player(\"Rongjun\")"
      ],
      "metadata": {
        "id": "5uW3Y9hTR3Qz"
      },
      "execution_count": 92,
      "outputs": []
    },
    {
      "cell_type": "code",
      "source": [
        "print(new_player)"
      ],
      "metadata": {
        "colab": {
          "base_uri": "https://localhost:8080/"
        },
        "id": "bsYHm5gUR8fq",
        "outputId": "e118b4d0-6c81-405d-de97-0265dba483ad"
      },
      "execution_count": 93,
      "outputs": [
        {
          "output_type": "stream",
          "name": "stdout",
          "text": [
            "Player Rongjun has 0 cards.\n"
          ]
        }
      ]
    },
    {
      "cell_type": "code",
      "source": [
        "new_player.add_cards(mycard)"
      ],
      "metadata": {
        "id": "8mwqrCU8SCv6"
      },
      "execution_count": 96,
      "outputs": []
    },
    {
      "cell_type": "code",
      "source": [
        "print(mycard)"
      ],
      "metadata": {
        "colab": {
          "base_uri": "https://localhost:8080/"
        },
        "id": "bTb1qwugSpWO",
        "outputId": "d999c18f-fef7-4d82-923d-2af5f6100e30"
      },
      "execution_count": 97,
      "outputs": [
        {
          "output_type": "stream",
          "name": "stdout",
          "text": [
            "Eight of Clubs\n"
          ]
        }
      ]
    },
    {
      "cell_type": "code",
      "source": [
        "new_player.add_cards([mycard, mycard, mycard])"
      ],
      "metadata": {
        "id": "te5bj_5SSswl"
      },
      "execution_count": 98,
      "outputs": []
    },
    {
      "cell_type": "code",
      "source": [
        "print(new_player)"
      ],
      "metadata": {
        "colab": {
          "base_uri": "https://localhost:8080/"
        },
        "id": "Usg9M6EUTZV6",
        "outputId": "a65efffc-dcb6-4118-fcb2-0dcf10e2767e"
      },
      "execution_count": 99,
      "outputs": [
        {
          "output_type": "stream",
          "name": "stdout",
          "text": [
            "Player Rongjun has 4 cards.\n"
          ]
        }
      ]
    },
    {
      "cell_type": "code",
      "source": [
        "new_player.remove_one()"
      ],
      "metadata": {
        "colab": {
          "base_uri": "https://localhost:8080/"
        },
        "id": "a1nCnY1mTcIB",
        "outputId": "c0020034-afff-4eca-ab2b-766e4bbdf26c"
      },
      "execution_count": 100,
      "outputs": [
        {
          "output_type": "execute_result",
          "data": {
            "text/plain": [
              "<__main__.Card at 0x7fc6882302d0>"
            ]
          },
          "metadata": {},
          "execution_count": 100
        }
      ]
    },
    {
      "cell_type": "code",
      "source": [
        "print(new_player)"
      ],
      "metadata": {
        "colab": {
          "base_uri": "https://localhost:8080/"
        },
        "id": "9BjSOvy9ThSL",
        "outputId": "6a2f84ab-2e0a-4fbd-ea3d-bbe860aabf7e"
      },
      "execution_count": 101,
      "outputs": [
        {
          "output_type": "stream",
          "name": "stdout",
          "text": [
            "Player Rongjun has 3 cards.\n"
          ]
        }
      ]
    },
    {
      "cell_type": "code",
      "source": [
        ""
      ],
      "metadata": {
        "id": "0Mt2nFxMTje5"
      },
      "execution_count": null,
      "outputs": []
    }
  ]
}