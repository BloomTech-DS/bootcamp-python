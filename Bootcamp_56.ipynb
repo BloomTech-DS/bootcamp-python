{
  "nbformat": 4,
  "nbformat_minor": 0,
  "metadata": {
    "colab": {
      "name": "Bootcamp_56.ipynb",
      "provenance": [],
      "authorship_tag": "ABX9TyOH06ZKHGmxBdW42c6J0XGK",
      "include_colab_link": true
    },
    "kernelspec": {
      "name": "python3",
      "display_name": "Python 3"
    },
    "language_info": {
      "name": "python"
    }
  },
  "cells": [
    {
      "cell_type": "markdown",
      "metadata": {
        "id": "view-in-github",
        "colab_type": "text"
      },
      "source": [
        "<a href=\"https://colab.research.google.com/github/BloomTech-DS/bootcamp-python/blob/main/Bootcamp_56.ipynb\" target=\"_parent\"><img src=\"https://colab.research.google.com/assets/colab-badge.svg\" alt=\"Open In Colab\"/></a>"
      ]
    },
    {
      "cell_type": "markdown",
      "source": [
        "# Nested Statements and Scope"
      ],
      "metadata": {
        "id": "T0t7Cvl-z_ss"
      }
    },
    {
      "cell_type": "code",
      "execution_count": 1,
      "metadata": {
        "id": "7SNZlsZkjfXR"
      },
      "outputs": [],
      "source": [
        "x = 25\n",
        "def printer():\n",
        "  x = 50\n",
        "  return x"
      ]
    },
    {
      "cell_type": "code",
      "source": [
        "print(x)"
      ],
      "metadata": {
        "colab": {
          "base_uri": "https://localhost:8080/"
        },
        "id": "dkptezF0jxg2",
        "outputId": "b3c8ee6e-1960-4a9d-df55-3470c6669285"
      },
      "execution_count": 2,
      "outputs": [
        {
          "output_type": "stream",
          "name": "stdout",
          "text": [
            "25\n"
          ]
        }
      ]
    },
    {
      "cell_type": "code",
      "source": [
        "print(printer())"
      ],
      "metadata": {
        "colab": {
          "base_uri": "https://localhost:8080/"
        },
        "id": "4z_g4py1jzRK",
        "outputId": "99819530-5013-4a96-8e38-0b24cae82f39"
      },
      "execution_count": 3,
      "outputs": [
        {
          "output_type": "stream",
          "name": "stdout",
          "text": [
            "50\n"
          ]
        }
      ]
    },
    {
      "cell_type": "code",
      "source": [
        "# GLOBAL\n",
        "name = \"THIS IS A GLOBAL STRING\"\n",
        "\n",
        "def greet():\n",
        "\n",
        "  # ENCLOSING\n",
        "  name = 'Sammy'\n",
        "  def hello():\n",
        "\n",
        "    # LOCAL\n",
        "    name = 'Local name'\n",
        "    print('Hello '+name)\n",
        "\n",
        "  hello()\n",
        "\n"
      ],
      "metadata": {
        "id": "tSnNbQHLj9oj"
      },
      "execution_count": 9,
      "outputs": []
    },
    {
      "cell_type": "code",
      "source": [
        "greet()"
      ],
      "metadata": {
        "colab": {
          "base_uri": "https://localhost:8080/"
        },
        "id": "7ZFCfnf2mAgf",
        "outputId": "d73c349e-d784-4c6c-f17f-8190a1032915"
      },
      "execution_count": 10,
      "outputs": [
        {
          "output_type": "stream",
          "name": "stdout",
          "text": [
            "Hello Local name\n"
          ]
        }
      ]
    },
    {
      "cell_type": "code",
      "source": [
        "x = 50\n",
        "\n",
        "def func(x):\n",
        " \n",
        "  print(f'X is {x}')\n",
        "\n",
        "  # LOCAL REASSIGNMENT ON VARIABLE!\n",
        "  x = 'NEW VALUE'\n",
        "  print(f'I just locally changed X to {x}')"
      ],
      "metadata": {
        "id": "xyeZXIdLnW2k"
      },
      "execution_count": 31,
      "outputs": []
    },
    {
      "cell_type": "code",
      "source": [
        "func(x)"
      ],
      "metadata": {
        "colab": {
          "base_uri": "https://localhost:8080/"
        },
        "id": "jGv4EWxyns-K",
        "outputId": "f9f1fc6e-f984-4d44-e318-214f2603b679"
      },
      "execution_count": 32,
      "outputs": [
        {
          "output_type": "stream",
          "name": "stdout",
          "text": [
            "X is 50\n",
            "I just locally changed X to NEW VALUE\n"
          ]
        }
      ]
    },
    {
      "cell_type": "code",
      "source": [
        "x = func(x)"
      ],
      "metadata": {
        "colab": {
          "base_uri": "https://localhost:8080/"
        },
        "id": "AA0d-peSnuY7",
        "outputId": "65c185fb-0bed-4f48-c5cc-ef9e87132f9d"
      },
      "execution_count": 33,
      "outputs": [
        {
          "output_type": "stream",
          "name": "stdout",
          "text": [
            "X is 50\n",
            "I just locally changed X to NEW VALUE\n"
          ]
        }
      ]
    },
    {
      "cell_type": "code",
      "source": [
        "x"
      ],
      "metadata": {
        "id": "M_avZaeqwrcY"
      },
      "execution_count": 35,
      "outputs": []
    },
    {
      "cell_type": "code",
      "source": [
        ""
      ],
      "metadata": {
        "id": "WaXfUscbznTX"
      },
      "execution_count": null,
      "outputs": []
    }
  ]
}