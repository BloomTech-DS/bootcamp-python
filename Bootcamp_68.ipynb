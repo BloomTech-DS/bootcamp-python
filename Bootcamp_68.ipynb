{
  "nbformat": 4,
  "nbformat_minor": 0,
  "metadata": {
    "colab": {
      "name": "Bootcamp_68.ipynb",
      "provenance": [],
      "collapsed_sections": [],
      "authorship_tag": "ABX9TyPuW9VTJSh5Z5pmaHhW7wPz",
      "include_colab_link": true
    },
    "kernelspec": {
      "name": "python3",
      "display_name": "Python 3"
    },
    "language_info": {
      "name": "python"
    }
  },
  "cells": [
    {
      "cell_type": "markdown",
      "metadata": {
        "id": "view-in-github",
        "colab_type": "text"
      },
      "source": [
        "<a href=\"https://colab.research.google.com/github/BloomTech-DS/bootcamp-python/blob/main/Bootcamp_68.ipynb\" target=\"_parent\"><img src=\"https://colab.research.google.com/assets/colab-badge.svg\" alt=\"Open In Colab\"/></a>"
      ]
    },
    {
      "cell_type": "markdown",
      "source": [
        "# 68. Object Oriented Programming - Introduction"
      ],
      "metadata": {
        "id": "4ON1y2hgVVGN"
      }
    },
    {
      "cell_type": "code",
      "execution_count": null,
      "metadata": {
        "id": "k7fm5EOSUtch"
      },
      "outputs": [],
      "source": [
        "class NameOfClass():\n",
        "\n",
        "  def_init_(self, param1, param2):\n",
        "    self.param1 = param1\n",
        "    self.param2 = param\n",
        "\n",
        "  def some_method(self):\n",
        "    # porform some action\n",
        "    print(slef.papam1)"
      ]
    }
  ]
}