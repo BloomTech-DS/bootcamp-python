{
  "nbformat": 4,
  "nbformat_minor": 0,
  "metadata": {
    "colab": {
      "name": "Bootcamp_51.ipynb",
      "provenance": [],
      "authorship_tag": "ABX9TyNHinQnGc9jk/JBjoJWkyZX",
      "include_colab_link": true
    },
    "kernelspec": {
      "name": "python3",
      "display_name": "Python 3"
    },
    "language_info": {
      "name": "python"
    }
  },
  "cells": [
    {
      "cell_type": "markdown",
      "metadata": {
        "id": "view-in-github",
        "colab_type": "text"
      },
      "source": [
        "<a href=\"https://colab.research.google.com/github/rjgeng/colab-python/blob/main/Bootcamp_51.ipynb\" target=\"_parent\"><img src=\"https://colab.research.google.com/assets/colab-badge.svg\" alt=\"Open In Colab\"/></a>"
      ]
    },
    {
      "cell_type": "markdown",
      "source": [
        "# Function Practice Exercises - Solutions\n",
        "\n",
        "Problems are arranged in increasing difficulty:\n",
        "* Warmup - these can be solved using basic comparisons and methods\n",
        "* Level 1 - these may involve if/then conditional statements and simple methods\n",
        "* Level 2 - these may require iterating over sequences, usually with some kind of loop\n",
        "* Challenging - these will take some creativity to solve"
      ],
      "metadata": {
        "id": "YUf3eZ6Itbib"
      }
    },
    {
      "cell_type": "markdown",
      "source": [
        "## WARMUP SECTION:\n"
      ],
      "metadata": {
        "id": "t0cFOAkHtVLo"
      }
    },
    {
      "cell_type": "markdown",
      "source": [
        "#### LESSER OF TWO EVENS: Write a function that returns the lesser of two given numbers *if* both numbers are even, but returns the greater if one or both numbers are odd\n",
        "    lesser_of_two_evens(2,4) --> 2\n",
        "    lesser_of_two_evens(2,5) --> 5"
      ],
      "metadata": {
        "id": "ikenc6qyuPkd"
      }
    },
    {
      "cell_type": "code",
      "execution_count": 9,
      "metadata": {
        "id": "0tJyRIXmmhGN"
      },
      "outputs": [],
      "source": [
        "def lesser_of_two_evens(a, b):\n",
        "\n",
        "  if  a%2 == 0 and b%2 == 2:\n",
        "    # BOTH NUMBERS ARE EVEN!\n",
        "    return min(a, b)\n",
        "  else:\n",
        "    # ONE OR BOTH NUMBER ARE ODD!\n",
        "    return max(a, b)\n",
        "\n"
      ]
    },
    {
      "cell_type": "code",
      "source": [
        "lesser_of_two_evens(2, 4)"
      ],
      "metadata": {
        "colab": {
          "base_uri": "https://localhost:8080/"
        },
        "id": "lm5k1R2Lr_is",
        "outputId": "da20ab6f-0e85-485a-d5ce-a3cc6ce832e7"
      },
      "execution_count": 10,
      "outputs": [
        {
          "output_type": "execute_result",
          "data": {
            "text/plain": [
              "4"
            ]
          },
          "metadata": {},
          "execution_count": 10
        }
      ]
    },
    {
      "cell_type": "code",
      "source": [
        "lesser_of_two_evens(3, 5)"
      ],
      "metadata": {
        "colab": {
          "base_uri": "https://localhost:8080/"
        },
        "id": "ycEXb2SqsCxw",
        "outputId": "ac0c587f-ad04-44e1-ba1e-527c2c979421"
      },
      "execution_count": 11,
      "outputs": [
        {
          "output_type": "execute_result",
          "data": {
            "text/plain": [
              "5"
            ]
          },
          "metadata": {},
          "execution_count": 11
        }
      ]
    },
    {
      "cell_type": "markdown",
      "source": [
        "#### ANIMAL CRACKERS: Write a function takes a two-word string and returns True if both words begin with same letter\n",
        "    animal_crackers('Levelheaded Llama') --> True\n",
        "    animal_crackers('Crazy Kangaroo') --> False"
      ],
      "metadata": {
        "id": "izHM3p7Txv5W"
      }
    },
    {
      "cell_type": "code",
      "source": [
        "def animal_crackers(text):\n",
        "  wordlist = text.lower().split()\n",
        "    \n",
        "  return wordlist[0][0] == wordlist[1][0]"
      ],
      "metadata": {
        "id": "bZrRl6DMsGRI"
      },
      "execution_count": 28,
      "outputs": []
    },
    {
      "cell_type": "code",
      "source": [
        "# Check\n",
        "animal_crackers('Levelheaded Llama')"
      ],
      "metadata": {
        "colab": {
          "base_uri": "https://localhost:8080/"
        },
        "id": "5npi8SX0yjC0",
        "outputId": "05698c9e-1d47-44b4-e66c-11e0f45351f5"
      },
      "execution_count": 29,
      "outputs": [
        {
          "output_type": "execute_result",
          "data": {
            "text/plain": [
              "True"
            ]
          },
          "metadata": {},
          "execution_count": 29
        }
      ]
    },
    {
      "cell_type": "code",
      "source": [
        "# Check\n",
        "animal_crackers('Crazy Kangaroo')"
      ],
      "metadata": {
        "colab": {
          "base_uri": "https://localhost:8080/"
        },
        "id": "MAdLtNWNyxhs",
        "outputId": "75b10953-7a1b-4d01-fbf7-1b0893c082b3"
      },
      "execution_count": 32,
      "outputs": [
        {
          "output_type": "execute_result",
          "data": {
            "text/plain": [
              "True"
            ]
          },
          "metadata": {},
          "execution_count": 32
        }
      ]
    },
    {
      "cell_type": "markdown",
      "source": [
        "#### MAKES TWENTY: Given two integers, return True if the sum of the integers is 20 *or* if one of the integers is 20. If not, return False\n",
        "\n",
        "    makes_twenty(20,10) --> True\n",
        "    makes_twenty(12,8) --> True\n",
        "    makes_twenty(2,3) --> False"
      ],
      "metadata": {
        "id": "y4vBR5In00h4"
      }
    },
    {
      "cell_type": "code",
      "source": [
        "def makes_twenty(n1, n2):\n",
        "  return (n1+n2) == 20 or n1 == 20 or n2 == 20"
      ],
      "metadata": {
        "id": "2FgMhQwH1526"
      },
      "execution_count": 36,
      "outputs": []
    },
    {
      "cell_type": "code",
      "source": [
        "# Check\n",
        "makes_twenty(20, 10)"
      ],
      "metadata": {
        "colab": {
          "base_uri": "https://localhost:8080/"
        },
        "id": "6Bv6-yVezBWF",
        "outputId": "de55566e-0fb6-40b3-fc25-f5a8d9dcba0d"
      },
      "execution_count": 37,
      "outputs": [
        {
          "output_type": "execute_result",
          "data": {
            "text/plain": [
              "True"
            ]
          },
          "metadata": {},
          "execution_count": 37
        }
      ]
    },
    {
      "cell_type": "code",
      "source": [
        "# Check\n",
        "makes_twenty(2, 3)"
      ],
      "metadata": {
        "colab": {
          "base_uri": "https://localhost:8080/"
        },
        "id": "1Zq9j1UF2k3p",
        "outputId": "d1a70845-6179-4a5f-d375-12d85c71579b"
      },
      "execution_count": 38,
      "outputs": [
        {
          "output_type": "execute_result",
          "data": {
            "text/plain": [
              "False"
            ]
          },
          "metadata": {},
          "execution_count": 38
        }
      ]
    },
    {
      "cell_type": "code",
      "source": [
        ""
      ],
      "metadata": {
        "id": "NrNt3nts2pVP"
      },
      "execution_count": 38,
      "outputs": []
    }
  ]
}