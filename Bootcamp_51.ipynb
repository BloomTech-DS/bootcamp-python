{
  "nbformat": 4,
  "nbformat_minor": 0,
  "metadata": {
    "colab": {
      "name": "Bootcamp_51.ipynb",
      "provenance": [],
      "collapsed_sections": [],
      "authorship_tag": "ABX9TyNbfH7k148BS4lFZ5iwEJti",
      "include_colab_link": true
    },
    "kernelspec": {
      "name": "python3",
      "display_name": "Python 3"
    },
    "language_info": {
      "name": "python"
    }
  },
  "cells": [
    {
      "cell_type": "markdown",
      "metadata": {
        "id": "view-in-github",
        "colab_type": "text"
      },
      "source": [
        "<a href=\"https://colab.research.google.com/github/BloomTech-DS/bootcamp-python/blob/main/Bootcamp_51.ipynb\" target=\"_parent\"><img src=\"https://colab.research.google.com/assets/colab-badge.svg\" alt=\"Open In Colab\"/></a>"
      ]
    },
    {
      "cell_type": "markdown",
      "source": [
        "# Function Practice Exercises - Solutions\n",
        "\n",
        "Problems are arranged in increasing difficulty:\n",
        "* Warmup - these can be solved using basic comparisons and methods\n",
        "* Level 1 - these may involve if/then conditional statements and simple methods\n",
        "* Level 2 - these may require iterating over sequences, usually with some kind of loop\n",
        "* Challenging - these will take some creativity to solve"
      ],
      "metadata": {
        "id": "YUf3eZ6Itbib"
      }
    },
    {
      "cell_type": "markdown",
      "source": [
        "## WARMUP SECTION:\n"
      ],
      "metadata": {
        "id": "t0cFOAkHtVLo"
      }
    },
    {
      "cell_type": "markdown",
      "source": [
        "#### LESSER OF TWO EVENS: Write a function that returns the lesser of two given numbers *if* both numbers are even, but returns the greater if one or both numbers are odd\n",
        "    lesser_of_two_evens(2,4) --> 2\n",
        "    lesser_of_two_evens(2,5) --> 5"
      ],
      "metadata": {
        "id": "ikenc6qyuPkd"
      }
    },
    {
      "cell_type": "code",
      "execution_count": 9,
      "metadata": {
        "id": "0tJyRIXmmhGN"
      },
      "outputs": [],
      "source": [
        "def lesser_of_two_evens(a, b):\n",
        "\n",
        "  if  a%2 == 0 and b%2 == 2:\n",
        "    # BOTH NUMBERS ARE EVEN!\n",
        "    return min(a, b)\n",
        "  else:\n",
        "    # ONE OR BOTH NUMBER ARE ODD!\n",
        "    return max(a, b)\n",
        "\n"
      ]
    },
    {
      "cell_type": "code",
      "source": [
        "lesser_of_two_evens(2, 4)"
      ],
      "metadata": {
        "colab": {
          "base_uri": "https://localhost:8080/"
        },
        "id": "lm5k1R2Lr_is",
        "outputId": "da20ab6f-0e85-485a-d5ce-a3cc6ce832e7"
      },
      "execution_count": 10,
      "outputs": [
        {
          "output_type": "execute_result",
          "data": {
            "text/plain": [
              "4"
            ]
          },
          "metadata": {},
          "execution_count": 10
        }
      ]
    },
    {
      "cell_type": "code",
      "source": [
        "lesser_of_two_evens(3, 5)"
      ],
      "metadata": {
        "colab": {
          "base_uri": "https://localhost:8080/"
        },
        "id": "ycEXb2SqsCxw",
        "outputId": "ac0c587f-ad04-44e1-ba1e-527c2c979421"
      },
      "execution_count": 11,
      "outputs": [
        {
          "output_type": "execute_result",
          "data": {
            "text/plain": [
              "5"
            ]
          },
          "metadata": {},
          "execution_count": 11
        }
      ]
    },
    {
      "cell_type": "markdown",
      "source": [
        "#### ANIMAL CRACKERS: Write a function takes a two-word string and returns True if both words begin with same letter\n",
        "    animal_crackers('Levelheaded Llama') --> True\n",
        "    animal_crackers('Crazy Kangaroo') --> False"
      ],
      "metadata": {
        "id": "izHM3p7Txv5W"
      }
    },
    {
      "cell_type": "code",
      "source": [
        "def animal_crackers(text):\n",
        "  wordlist = text.lower().split()\n",
        "    \n",
        "  return wordlist[0][0] == wordlist[1][0]"
      ],
      "metadata": {
        "id": "bZrRl6DMsGRI"
      },
      "execution_count": 28,
      "outputs": []
    },
    {
      "cell_type": "code",
      "source": [
        "# Check\n",
        "animal_crackers('Levelheaded Llama')"
      ],
      "metadata": {
        "colab": {
          "base_uri": "https://localhost:8080/"
        },
        "id": "5npi8SX0yjC0",
        "outputId": "05698c9e-1d47-44b4-e66c-11e0f45351f5"
      },
      "execution_count": 29,
      "outputs": [
        {
          "output_type": "execute_result",
          "data": {
            "text/plain": [
              "True"
            ]
          },
          "metadata": {},
          "execution_count": 29
        }
      ]
    },
    {
      "cell_type": "code",
      "source": [
        "# Check\n",
        "animal_crackers('Crazy Kangaroo')"
      ],
      "metadata": {
        "colab": {
          "base_uri": "https://localhost:8080/"
        },
        "id": "MAdLtNWNyxhs",
        "outputId": "75b10953-7a1b-4d01-fbf7-1b0893c082b3"
      },
      "execution_count": 32,
      "outputs": [
        {
          "output_type": "execute_result",
          "data": {
            "text/plain": [
              "True"
            ]
          },
          "metadata": {},
          "execution_count": 32
        }
      ]
    },
    {
      "cell_type": "markdown",
      "source": [
        "#### MAKES TWENTY: Given two integers, return True if the sum of the integers is 20 *or* if one of the integers is 20. If not, return False\n",
        "\n",
        "    makes_twenty(20,10) --> True\n",
        "    makes_twenty(12,8) --> True\n",
        "    makes_twenty(2,3) --> False"
      ],
      "metadata": {
        "id": "y4vBR5In00h4"
      }
    },
    {
      "cell_type": "code",
      "source": [
        "def makes_twenty(n1, n2):\n",
        "  return (n1+n2) == 20 or n1 == 20 or n2 == 20"
      ],
      "metadata": {
        "id": "2FgMhQwH1526"
      },
      "execution_count": 36,
      "outputs": []
    },
    {
      "cell_type": "code",
      "source": [
        "# Check\n",
        "makes_twenty(20, 10)"
      ],
      "metadata": {
        "colab": {
          "base_uri": "https://localhost:8080/"
        },
        "id": "6Bv6-yVezBWF",
        "outputId": "de55566e-0fb6-40b3-fc25-f5a8d9dcba0d"
      },
      "execution_count": 37,
      "outputs": [
        {
          "output_type": "execute_result",
          "data": {
            "text/plain": [
              "True"
            ]
          },
          "metadata": {},
          "execution_count": 37
        }
      ]
    },
    {
      "cell_type": "code",
      "source": [
        "# Check\n",
        "makes_twenty(2, 3)"
      ],
      "metadata": {
        "colab": {
          "base_uri": "https://localhost:8080/"
        },
        "id": "1Zq9j1UF2k3p",
        "outputId": "d1a70845-6179-4a5f-d375-12d85c71579b"
      },
      "execution_count": 38,
      "outputs": [
        {
          "output_type": "execute_result",
          "data": {
            "text/plain": [
              "False"
            ]
          },
          "metadata": {},
          "execution_count": 38
        }
      ]
    },
    {
      "cell_type": "markdown",
      "source": [
        "# LEVEL 1 PROBLEMS"
      ],
      "metadata": {
        "id": "k8vcQLdsDK52"
      }
    },
    {
      "cell_type": "markdown",
      "source": [
        "#### OLD MACDONALD: Write a function that capitalizes the first and fourth letters of a name\n",
        "     \n",
        "    old_macdonald('macdonald') --> MacDonald\n",
        "    \n",
        "Note: `'macdonald'.capitalize()` returns `'Macdonald'`"
      ],
      "metadata": {
        "id": "4iyc3cQMDOBp"
      }
    },
    {
      "cell_type": "code",
      "source": [
        "def old_macdonald(name):\n",
        "  first_letter = name[0]\n",
        "  inbetween = name[1:3]\n",
        "  fourth_letter = name[3]\n",
        "  rest = name[4:]\n",
        "\n",
        "  return first_letter.upper() + inbetween + fourth_letter.upper() + rest"
      ],
      "metadata": {
        "id": "zqy59JqfDTSO"
      },
      "execution_count": 41,
      "outputs": []
    },
    {
      "cell_type": "code",
      "source": [
        "# Check\n",
        "old_macdonald('macdonald')"
      ],
      "metadata": {
        "colab": {
          "base_uri": "https://localhost:8080/",
          "height": 35
        },
        "id": "A0uJJ7SkEEce",
        "outputId": "c4e9319f-0c35-4465-f1d5-a9a5c2de986a"
      },
      "execution_count": 42,
      "outputs": [
        {
          "output_type": "execute_result",
          "data": {
            "text/plain": [
              "'MacDonald'"
            ],
            "application/vnd.google.colaboratory.intrinsic+json": {
              "type": "string"
            }
          },
          "metadata": {},
          "execution_count": 42
        }
      ]
    },
    {
      "cell_type": "code",
      "source": [
        "def old_macdonald(name):\n",
        "  first_half = name[:3]\n",
        "  second_half = name[3:]\n",
        "\n",
        "  return first_half.capitalize() + second_half.capitalize()"
      ],
      "metadata": {
        "id": "a1R_--L2ELub"
      },
      "execution_count": 46,
      "outputs": []
    },
    {
      "cell_type": "code",
      "source": [
        "# Check\n",
        "old_macdonald('macdonald')"
      ],
      "metadata": {
        "colab": {
          "base_uri": "https://localhost:8080/",
          "height": 35
        },
        "id": "6akCM0VVFH_z",
        "outputId": "70e9b130-9313-4956-accf-f5874ad7bf15"
      },
      "execution_count": 48,
      "outputs": [
        {
          "output_type": "execute_result",
          "data": {
            "text/plain": [
              "'MacDonald'"
            ],
            "application/vnd.google.colaboratory.intrinsic+json": {
              "type": "string"
            }
          },
          "metadata": {},
          "execution_count": 48
        }
      ]
    },
    {
      "cell_type": "markdown",
      "source": [
        "#### MASTER YODA: Given a sentence, return a sentence with the words reversed\n",
        "\n",
        "    master_yoda('I am home') --> 'home am I'\n",
        "    master_yoda('We are ready') --> 'ready are We'"
      ],
      "metadata": {
        "id": "4vuPu2KtFl19"
      }
    },
    {
      "cell_type": "code",
      "source": [
        "def master_yoda(text):  \n",
        "  return ' '.join(text.split()[::-1])                        "
      ],
      "metadata": {
        "id": "9QxXT3reFkcO"
      },
      "execution_count": 71,
      "outputs": []
    },
    {
      "cell_type": "code",
      "source": [
        "# Check\n",
        "master_yoda('I am home')"
      ],
      "metadata": {
        "colab": {
          "base_uri": "https://localhost:8080/",
          "height": 35
        },
        "id": "zTLYfP2MGU8D",
        "outputId": "e5dcf2ae-22b4-429f-9969-15fef00373b7"
      },
      "execution_count": 72,
      "outputs": [
        {
          "output_type": "execute_result",
          "data": {
            "text/plain": [
              "'home am I'"
            ],
            "application/vnd.google.colaboratory.intrinsic+json": {
              "type": "string"
            }
          },
          "metadata": {},
          "execution_count": 72
        }
      ]
    },
    {
      "cell_type": "code",
      "source": [
        "# Check\n",
        "master_yoda('We are ready')"
      ],
      "metadata": {
        "colab": {
          "base_uri": "https://localhost:8080/",
          "height": 35
        },
        "id": "zazdDEWbGdLd",
        "outputId": "dbc8de25-57e2-41ee-c409-e13bb020244f"
      },
      "execution_count": 74,
      "outputs": [
        {
          "output_type": "execute_result",
          "data": {
            "text/plain": [
              "'ready are We'"
            ],
            "application/vnd.google.colaboratory.intrinsic+json": {
              "type": "string"
            }
          },
          "metadata": {},
          "execution_count": 74
        }
      ]
    },
    {
      "cell_type": "markdown",
      "source": [
        "#### ALMOST THERE: Given an integer n, return True if n is within 10 of either 100 or 200\n",
        "\n",
        "    almost_there(90) --> True\n",
        "    almost_there(104) --> True\n",
        "    almost_there(150) --> False\n",
        "    almost_there(209) --> True\n",
        "    \n",
        "NOTE: `abs(num)` returns the absolute value of a number"
      ],
      "metadata": {
        "id": "o1LCtevHJZMN"
      }
    },
    {
      "cell_type": "code",
      "source": [
        "def almost_there(n):\n",
        "  return (abs(100-n) <= 10) or (abs(200-n) <= 10)"
      ],
      "metadata": {
        "id": "Zd9wuNbPJWTp"
      },
      "execution_count": 75,
      "outputs": []
    },
    {
      "cell_type": "code",
      "source": [
        "# Check\n",
        "almost_there(104)"
      ],
      "metadata": {
        "colab": {
          "base_uri": "https://localhost:8080/"
        },
        "id": "Z_NWWT7NKQvC",
        "outputId": "f311a7a8-dd6e-46a4-afea-b72f34d4a537"
      },
      "execution_count": 76,
      "outputs": [
        {
          "output_type": "execute_result",
          "data": {
            "text/plain": [
              "True"
            ]
          },
          "metadata": {},
          "execution_count": 76
        }
      ]
    },
    {
      "cell_type": "code",
      "source": [
        "# Check\n",
        "almost_there(150)"
      ],
      "metadata": {
        "colab": {
          "base_uri": "https://localhost:8080/"
        },
        "id": "C2WLbrMbKWbe",
        "outputId": "9d0d43b3-f44c-44e6-b1f8-c9e41cb86ad0"
      },
      "execution_count": 77,
      "outputs": [
        {
          "output_type": "execute_result",
          "data": {
            "text/plain": [
              "False"
            ]
          },
          "metadata": {},
          "execution_count": 77
        }
      ]
    },
    {
      "cell_type": "code",
      "source": [
        "# Check\n",
        "almost_there(209)"
      ],
      "metadata": {
        "colab": {
          "base_uri": "https://localhost:8080/"
        },
        "id": "gmaL8MK9KZV_",
        "outputId": "4c5aa081-c8c7-49f7-cc60-819f0a633afd"
      },
      "execution_count": 78,
      "outputs": [
        {
          "output_type": "execute_result",
          "data": {
            "text/plain": [
              "True"
            ]
          },
          "metadata": {},
          "execution_count": 78
        }
      ]
    },
    {
      "cell_type": "markdown",
      "source": [
        "# LEVEL 2 PROBLEMS"
      ],
      "metadata": {
        "id": "VQClLLTBc648"
      }
    },
    {
      "cell_type": "markdown",
      "source": [
        "#### FIND 33: \n",
        "\n",
        "Given a list of ints, return True if the array contains a 3 next to a 3 somewhere.\n",
        "\n",
        "    has_33([1, 3, 3]) → True\n",
        "    has_33([1, 3, 1, 3]) → False\n",
        "    has_33([3, 1, 3]) → False"
      ],
      "metadata": {
        "id": "pIjzIMRAc9Kw"
      }
    },
    {
      "cell_type": "code",
      "source": [
        "def has_33(nums):\n",
        "  for i in range(0, len(nums)-1):\n",
        "    if nums[i] == 3 and nums[i+1] ==3:\n",
        "      return True\n",
        "  return False"
      ],
      "metadata": {
        "id": "ws_RMhdrKcK_"
      },
      "execution_count": 85,
      "outputs": []
    },
    {
      "cell_type": "code",
      "source": [
        "# Check\n",
        "has_33([1,3,3])"
      ],
      "metadata": {
        "colab": {
          "base_uri": "https://localhost:8080/"
        },
        "id": "8eNVyi4pdNJo",
        "outputId": "04facfe8-4c2c-4f2d-96a6-0a83e013d905"
      },
      "execution_count": 86,
      "outputs": [
        {
          "output_type": "execute_result",
          "data": {
            "text/plain": [
              "True"
            ]
          },
          "metadata": {},
          "execution_count": 86
        }
      ]
    },
    {
      "cell_type": "code",
      "source": [
        "# Check\n",
        "has_33([1, 3, 1, 3])"
      ],
      "metadata": {
        "colab": {
          "base_uri": "https://localhost:8080/"
        },
        "id": "yDTuWFJhd0mG",
        "outputId": "f434756c-27b2-4d11-e19e-98c05f55cdc5"
      },
      "execution_count": 87,
      "outputs": [
        {
          "output_type": "execute_result",
          "data": {
            "text/plain": [
              "False"
            ]
          },
          "metadata": {},
          "execution_count": 87
        }
      ]
    },
    {
      "cell_type": "code",
      "source": [
        "# Check\n",
        "has_33([3,1,3])"
      ],
      "metadata": {
        "colab": {
          "base_uri": "https://localhost:8080/"
        },
        "id": "JGsxVMeid262",
        "outputId": "ec172d01-5ffd-4d3b-f9b6-ef602d59ee21"
      },
      "execution_count": 88,
      "outputs": [
        {
          "output_type": "execute_result",
          "data": {
            "text/plain": [
              "False"
            ]
          },
          "metadata": {},
          "execution_count": 88
        }
      ]
    },
    {
      "cell_type": "markdown",
      "source": [
        "#### PAPER DOLL: Given a string, return a string where for every character in the original there are three characters\n",
        "    paper_doll('Hello') --> 'HHHeeellllllooo'\n",
        "    paper_doll('Mississippi') --> 'MMMiiissssssiiippppppiii'"
      ],
      "metadata": {
        "id": "UsopoRscfIKA"
      }
    },
    {
      "cell_type": "code",
      "source": [
        "def paper_doll(text):\n",
        "  result = ''\n",
        "\n",
        "  for char in text:\n",
        "    result += char*3\n",
        "  return result\n"
      ],
      "metadata": {
        "id": "8jD9RJAqd3lt"
      },
      "execution_count": 92,
      "outputs": []
    },
    {
      "cell_type": "code",
      "source": [
        "# Check\n",
        "paper_doll('Hello')"
      ],
      "metadata": {
        "colab": {
          "base_uri": "https://localhost:8080/",
          "height": 35
        },
        "id": "1dtVFZftgf-b",
        "outputId": "fd7cc76d-670d-4c49-d83d-1f09db10e06a"
      },
      "execution_count": 93,
      "outputs": [
        {
          "output_type": "execute_result",
          "data": {
            "text/plain": [
              "'HHHeeellllllooo'"
            ],
            "application/vnd.google.colaboratory.intrinsic+json": {
              "type": "string"
            }
          },
          "metadata": {},
          "execution_count": 93
        }
      ]
    },
    {
      "cell_type": "code",
      "source": [
        "# Check\n",
        "paper_doll('Mississippi')"
      ],
      "metadata": {
        "colab": {
          "base_uri": "https://localhost:8080/",
          "height": 35
        },
        "id": "sF9OmbubgplT",
        "outputId": "ab44574b-fd45-413a-f240-8801ea4eba96"
      },
      "execution_count": 94,
      "outputs": [
        {
          "output_type": "execute_result",
          "data": {
            "text/plain": [
              "'MMMiiissssssiiissssssiiippppppiii'"
            ],
            "application/vnd.google.colaboratory.intrinsic+json": {
              "type": "string"
            }
          },
          "metadata": {},
          "execution_count": 94
        }
      ]
    },
    {
      "cell_type": "markdown",
      "source": [
        "#### BLACKJACK: Given three integers between 1 and 11, if their sum is less than or equal to 21, return their sum. If their sum exceeds 21 *and* there's an eleven, reduce the total sum by 10. Finally, if the sum (even after adjustment) exceeds 21, return 'BUST'\n",
        "    blackjack(5,6,7) --> 18\n",
        "    blackjack(9,9,9) --> 'BUST'\n",
        "    blackjack(9,9,11) --> 19"
      ],
      "metadata": {
        "id": "v6ltgCaTh9tv"
      }
    },
    {
      "cell_type": "code",
      "source": [
        "def blackjack(a, b, c):\n",
        "  \n",
        "  if sum([a,b,c]) <= 21:\n",
        "    return sum([a,b,c])\n",
        "  elif 11 in [a,b,c] and sum([a,b,c]) - 10 <= 21:\n",
        "    return sum ([a,b,c]) - 10\n",
        "  else:\n",
        "    return 'BUST'"
      ],
      "metadata": {
        "id": "b-tjl-tqgvG8"
      },
      "execution_count": 106,
      "outputs": []
    },
    {
      "cell_type": "code",
      "source": [
        "#Check\n",
        "blackjack(5,6,7)"
      ],
      "metadata": {
        "colab": {
          "base_uri": "https://localhost:8080/"
        },
        "id": "sh1F1G79iRb-",
        "outputId": "d87af498-5417-4c5a-c35d-3084a84225be"
      },
      "execution_count": 107,
      "outputs": [
        {
          "output_type": "execute_result",
          "data": {
            "text/plain": [
              "18"
            ]
          },
          "metadata": {},
          "execution_count": 107
        }
      ]
    },
    {
      "cell_type": "code",
      "source": [
        "#Check\n",
        "blackjack(9,9,9)"
      ],
      "metadata": {
        "colab": {
          "base_uri": "https://localhost:8080/",
          "height": 35
        },
        "id": "099OAowZiYOd",
        "outputId": "cc624c59-cb14-4fc3-a6b8-88771e08f9f8"
      },
      "execution_count": 108,
      "outputs": [
        {
          "output_type": "execute_result",
          "data": {
            "text/plain": [
              "'BUST'"
            ],
            "application/vnd.google.colaboratory.intrinsic+json": {
              "type": "string"
            }
          },
          "metadata": {},
          "execution_count": 108
        }
      ]
    },
    {
      "cell_type": "code",
      "source": [
        "#Check\n",
        "blackjack(9,9,11)"
      ],
      "metadata": {
        "colab": {
          "base_uri": "https://localhost:8080/"
        },
        "id": "6eYBHoqtij_W",
        "outputId": "977a1905-9394-443d-df01-0c2fc2d112ab"
      },
      "execution_count": 109,
      "outputs": [
        {
          "output_type": "execute_result",
          "data": {
            "text/plain": [
              "19"
            ]
          },
          "metadata": {},
          "execution_count": 109
        }
      ]
    },
    {
      "cell_type": "markdown",
      "source": [
        "#### SUMMER OF '69: Return the sum of the numbers in the array, except ignore sections of numbers starting with a 6 and extending to the next 9 (every 6 will be followed by at least one 9). Return 0 for no numbers.\n",
        " \n",
        "    summer_69([1, 3, 5]) --> 9\n",
        "    summer_69([4, 5, 6, 7, 8, 9]) --> 9\n",
        "    summer_69([2, 1, 6, 9, 11]) --> 14"
      ],
      "metadata": {
        "id": "J5-0ZY-LjrPN"
      }
    },
    {
      "cell_type": "code",
      "source": [
        "def summer_69(arr):\n",
        "\n",
        "  total = 0\n",
        "  add = True\n",
        "\n",
        "  for num in arr:\n",
        "    while add:\n",
        "      if num != 6:\n",
        "        total += num\n",
        "        break\n",
        "      else:\n",
        "        add = False\n",
        "    while not add:\n",
        "      if num != 9:\n",
        "        break\n",
        "      else:\n",
        "        add = True\n",
        "        break\n",
        "  return total"
      ],
      "metadata": {
        "id": "3ZMrWqoTjwMO"
      },
      "execution_count": 114,
      "outputs": []
    },
    {
      "cell_type": "code",
      "source": [
        "# Check\n",
        "summer_69([1, 3, 5])"
      ],
      "metadata": {
        "colab": {
          "base_uri": "https://localhost:8080/"
        },
        "id": "h21PHUnDDApP",
        "outputId": "7c10ecbe-8306-48cb-cff7-bb676ff4fff7"
      },
      "execution_count": 115,
      "outputs": [
        {
          "output_type": "execute_result",
          "data": {
            "text/plain": [
              "9"
            ]
          },
          "metadata": {},
          "execution_count": 115
        }
      ]
    },
    {
      "cell_type": "code",
      "source": [
        "# Check\n",
        "summer_69([4, 5, 6, 7, 8, 9, 10])"
      ],
      "metadata": {
        "colab": {
          "base_uri": "https://localhost:8080/"
        },
        "id": "-VDJDt8cDZUf",
        "outputId": "698d9d1e-c70e-46ca-d0bc-75e3f6fae0ab"
      },
      "execution_count": 117,
      "outputs": [
        {
          "output_type": "execute_result",
          "data": {
            "text/plain": [
              "19"
            ]
          },
          "metadata": {},
          "execution_count": 117
        }
      ]
    },
    {
      "cell_type": "code",
      "source": [
        "# Check\n",
        "summer_69([2, 1, 6,  9, 11])"
      ],
      "metadata": {
        "colab": {
          "base_uri": "https://localhost:8080/"
        },
        "id": "vMuQVllyDlN_",
        "outputId": "ed1477b8-00d0-42f5-fbd1-6efd271c8bcc"
      },
      "execution_count": 118,
      "outputs": [
        {
          "output_type": "execute_result",
          "data": {
            "text/plain": [
              "14"
            ]
          },
          "metadata": {},
          "execution_count": 118
        }
      ]
    },
    {
      "cell_type": "code",
      "source": [
        ""
      ],
      "metadata": {
        "id": "2T0iKQYfDzkx"
      },
      "execution_count": null,
      "outputs": []
    }
  ]
}