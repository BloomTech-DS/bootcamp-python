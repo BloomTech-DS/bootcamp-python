{
  "nbformat": 4,
  "nbformat_minor": 0,
  "metadata": {
    "colab": {
      "name": "Bootcamp_81-82.ipynb",
      "provenance": [],
      "authorship_tag": "ABX9TyN1+gOrWsf32TnK1XhkpYuj",
      "include_colab_link": true
    },
    "kernelspec": {
      "name": "python3",
      "display_name": "Python 3"
    },
    "language_info": {
      "name": "python"
    }
  },
  "cells": [
    {
      "cell_type": "markdown",
      "metadata": {
        "id": "view-in-github",
        "colab_type": "text"
      },
      "source": [
        "<a href=\"https://colab.research.google.com/github/BloomTech-DS/bootcamp-python/blob/main/Bootcamp_81_82.ipynb\" target=\"_parent\"><img src=\"https://colab.research.google.com/assets/colab-badge.svg\" alt=\"Open In Colab\"/></a>"
      ]
    },
    {
      "cell_type": "markdown",
      "source": [
        "# Errors and Exceptions Homework - Solution"
      ],
      "metadata": {
        "id": "2I9ks95YJAIh"
      }
    },
    {
      "cell_type": "markdown",
      "source": [
        "### Problem 1\n",
        "Handle the exception thrown by the code below by using <code>try</code> and <code>except</code> blocks.\n"
      ],
      "metadata": {
        "id": "tkwp2OwUS7W9"
      }
    },
    {
      "cell_type": "code",
      "execution_count": 4,
      "metadata": {
        "colab": {
          "base_uri": "https://localhost:8080/"
        },
        "id": "0BfYGpdAI84N",
        "outputId": "f6cd2730-5640-4f59-d0bb-7930e7e7ce31"
      },
      "outputs": [
        {
          "output_type": "stream",
          "name": "stdout",
          "text": [
            "An error occurred!\n"
          ]
        }
      ],
      "source": [
        "try:\n",
        "    for i in ['a','b','c']:\n",
        "        print(i**2)\n",
        "except:\n",
        "    print(\"An error occurred!\")"
      ]
    },
    {
      "cell_type": "markdown",
      "source": [
        "### Problem 2\n",
        "Handle the exception thrown by the code below by using <code>try</code> and <code>except</code> blocks. Then use a <code>finally</code> block to print 'All Done.'"
      ],
      "metadata": {
        "id": "5rvGq0gtT4E0"
      }
    },
    {
      "cell_type": "code",
      "source": [
        "x = 5\n",
        "y = 0\n",
        "try:\n",
        "    z = x/y\n",
        "except ZeroDivisionError:\n",
        "    print(\"Can't divide by Zero!\")\n",
        "finally:\n",
        "    print('All Done!')"
      ],
      "metadata": {
        "colab": {
          "base_uri": "https://localhost:8080/"
        },
        "id": "kB3NHtn_TQos",
        "outputId": "89586854-0a84-452e-8898-5842a7760ff9"
      },
      "execution_count": 5,
      "outputs": [
        {
          "output_type": "stream",
          "name": "stdout",
          "text": [
            "Can't divide by Zero!\n",
            "All Done!\n"
          ]
        }
      ]
    },
    {
      "cell_type": "markdown",
      "source": [
        "### Problem 3\n",
        "Write a function that asks for an integer and prints the square of it. Use a <code>while</code> loop with a <code>try</code>, <code>except</code>, <code>else</code> block to account for incorrect inputs."
      ],
      "metadata": {
        "id": "0nnZ9Y98W1vR"
      }
    },
    {
      "cell_type": "code",
      "source": [
        "def ask():\n",
        "    while True:\n",
        "      try:\n",
        "        n = int(input(\"Enter a number: \"))\n",
        "      except:\n",
        "        print(\"Please try again! \\n\")\n",
        "        continue\n",
        "      else:\n",
        "        break\n",
        "    print(\"Your number squared is: \")\n",
        "    print(n**2)"
      ],
      "metadata": {
        "id": "cN0vGBFBUNTo"
      },
      "execution_count": 10,
      "outputs": []
    },
    {
      "cell_type": "code",
      "source": [
        "ask()"
      ],
      "metadata": {
        "colab": {
          "base_uri": "https://localhost:8080/"
        },
        "id": "v9Eohr08XAkx",
        "outputId": "d26ca190-1e4f-412a-d806-68dec1b5bf19"
      },
      "execution_count": 11,
      "outputs": [
        {
          "output_type": "stream",
          "name": "stdout",
          "text": [
            "Enter a number: u\n",
            "Please try again! \n",
            "\n",
            "Enter a number: 7\n",
            "Your number squared is: \n",
            "49\n"
          ]
        }
      ]
    },
    {
      "cell_type": "code",
      "source": [
        ""
      ],
      "metadata": {
        "id": "pYQAtXofXBvg"
      },
      "execution_count": null,
      "outputs": []
    }
  ]
}