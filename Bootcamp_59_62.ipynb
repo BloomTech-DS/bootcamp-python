{
  "nbformat": 4,
  "nbformat_minor": 0,
  "metadata": {
    "colab": {
      "name": "Bootcamp_59-62.ipynb",
      "provenance": [],
      "authorship_tag": "ABX9TyPuuXxo8C0WUQ4p+CoJ/r2x",
      "include_colab_link": true
    },
    "kernelspec": {
      "name": "python3",
      "display_name": "Python 3"
    },
    "language_info": {
      "name": "python"
    }
  },
  "cells": [
    {
      "cell_type": "markdown",
      "metadata": {
        "id": "view-in-github",
        "colab_type": "text"
      },
      "source": [
        "<a href=\"https://colab.research.google.com/github/BloomTech-DS/bootcamp-python/blob/main/Bootcamp_59_62.ipynb\" target=\"_parent\"><img src=\"https://colab.research.google.com/assets/colab-badge.svg\" alt=\"Open In Colab\"/></a>"
      ]
    },
    {
      "cell_type": "code",
      "execution_count": 8,
      "metadata": {
        "colab": {
          "base_uri": "https://localhost:8080/"
        },
        "id": "UnXm642OhFCn",
        "outputId": "cf07ccdd-5ff0-41f0-ec2f-d8ceab1f1e52"
      },
      "outputs": [
        {
          "output_type": "stream",
          "name": "stdout",
          "text": [
            "[1, 2, 3]\n"
          ]
        }
      ],
      "source": [
        "print([1,2,3])"
      ]
    },
    {
      "cell_type": "code",
      "source": [
        "print([1,2,3])\n",
        "print([4,5,6])\n",
        "print([7,8,9])"
      ],
      "metadata": {
        "colab": {
          "base_uri": "https://localhost:8080/"
        },
        "id": "ISTmGfTni129",
        "outputId": "9a4b4756-0171-4b29-804b-12c1413a5a07"
      },
      "execution_count": 9,
      "outputs": [
        {
          "output_type": "stream",
          "name": "stdout",
          "text": [
            "[1, 2, 3]\n",
            "[4, 5, 6]\n",
            "[7, 8, 9]\n"
          ]
        }
      ]
    },
    {
      "cell_type": "code",
      "source": [
        "def display(row1, row2, row3):\n",
        "  print(row1)\n",
        "  print(row2)\n",
        "  print(row3)"
      ],
      "metadata": {
        "id": "gfOCfKAWjAyn"
      },
      "execution_count": 10,
      "outputs": []
    },
    {
      "cell_type": "code",
      "source": [
        "row1 = [' ', ' ', ' ']\n",
        "row2 = [' ', ' ', ' ']\n",
        "row3 = [' ', ' ', ' ']\n",
        "\n"
      ],
      "metadata": {
        "id": "Zqg_QlCOjM2N"
      },
      "execution_count": 11,
      "outputs": []
    },
    {
      "cell_type": "code",
      "source": [
        "display(row1, row2, row3)\n"
      ],
      "metadata": {
        "colab": {
          "base_uri": "https://localhost:8080/"
        },
        "id": "YdKu1N2ijkNi",
        "outputId": "81b6efcd-0935-4195-91a9-7e30a654232a"
      },
      "execution_count": 12,
      "outputs": [
        {
          "output_type": "stream",
          "name": "stdout",
          "text": [
            "[' ', ' ', ' ']\n",
            "[' ', ' ', ' ']\n",
            "[' ', ' ', ' ']\n"
          ]
        }
      ]
    },
    {
      "cell_type": "code",
      "source": [
        "row2[1] = 'X'"
      ],
      "metadata": {
        "id": "IQnfzok_lqrU"
      },
      "execution_count": 13,
      "outputs": []
    },
    {
      "cell_type": "code",
      "source": [
        "display(row1, row2, row3)\n"
      ],
      "metadata": {
        "colab": {
          "base_uri": "https://localhost:8080/"
        },
        "id": "li2DP12xl9Lr",
        "outputId": "ec1174c0-e871-444d-f8df-80dd10de061c"
      },
      "execution_count": 14,
      "outputs": [
        {
          "output_type": "stream",
          "name": "stdout",
          "text": [
            "[' ', ' ', ' ']\n",
            "[' ', 'X', ' ']\n",
            "[' ', ' ', ' ']\n"
          ]
        }
      ]
    },
    {
      "cell_type": "code",
      "source": [
        "input(\"Please enter a value: \")"
      ],
      "metadata": {
        "colab": {
          "base_uri": "https://localhost:8080/",
          "height": 53
        },
        "id": "TA-AsyLIl_Ib",
        "outputId": "16038f7a-c886-409b-8c60-83cc53d17c76"
      },
      "execution_count": 15,
      "outputs": [
        {
          "name": "stdout",
          "output_type": "stream",
          "text": [
            "Please enter a value: 2\n"
          ]
        },
        {
          "output_type": "execute_result",
          "data": {
            "text/plain": [
              "'2'"
            ],
            "application/vnd.google.colaboratory.intrinsic+json": {
              "type": "string"
            }
          },
          "metadata": {},
          "execution_count": 15
        }
      ]
    },
    {
      "cell_type": "code",
      "source": [
        "result = input(\"Please enter a value: \")\n",
        "\n"
      ],
      "metadata": {
        "colab": {
          "base_uri": "https://localhost:8080/"
        },
        "id": "PwMf_8Lqmftb",
        "outputId": "fa9d16d7-cf89-43c9-fef1-c3546b165d6b"
      },
      "execution_count": 16,
      "outputs": [
        {
          "name": "stdout",
          "output_type": "stream",
          "text": [
            "Please enter a value: 3\n"
          ]
        }
      ]
    },
    {
      "cell_type": "code",
      "source": [
        "type(result)"
      ],
      "metadata": {
        "colab": {
          "base_uri": "https://localhost:8080/"
        },
        "id": "dNT8GtbRmm2z",
        "outputId": "45f02623-75a8-4ca4-e62f-952942b515b5"
      },
      "execution_count": 17,
      "outputs": [
        {
          "output_type": "execute_result",
          "data": {
            "text/plain": [
              "str"
            ]
          },
          "metadata": {},
          "execution_count": 17
        }
      ]
    },
    {
      "cell_type": "code",
      "source": [
        "result_int = int(result)"
      ],
      "metadata": {
        "id": "wZTHotvknD1L"
      },
      "execution_count": 18,
      "outputs": []
    },
    {
      "cell_type": "code",
      "source": [
        "type(result)"
      ],
      "metadata": {
        "colab": {
          "base_uri": "https://localhost:8080/"
        },
        "id": "7j-QIYgBnUJN",
        "outputId": "80642849-9d83-4343-e61e-59bd14c747bc"
      },
      "execution_count": 19,
      "outputs": [
        {
          "output_type": "execute_result",
          "data": {
            "text/plain": [
              "str"
            ]
          },
          "metadata": {},
          "execution_count": 19
        }
      ]
    },
    {
      "cell_type": "code",
      "source": [
        "type(result_int)"
      ],
      "metadata": {
        "colab": {
          "base_uri": "https://localhost:8080/"
        },
        "id": "-mUPYzBxnWGc",
        "outputId": "1b00d387-6284-476d-db2a-cafba77dcf13"
      },
      "execution_count": 20,
      "outputs": [
        {
          "output_type": "execute_result",
          "data": {
            "text/plain": [
              "int"
            ]
          },
          "metadata": {},
          "execution_count": 20
        }
      ]
    },
    {
      "cell_type": "code",
      "source": [
        "position_index = int(input(\"Choose an index position: \"))"
      ],
      "metadata": {
        "id": "lzATjfkonZTj",
        "colab": {
          "base_uri": "https://localhost:8080/"
        },
        "outputId": "70fc9659-1d98-431b-a07a-c853d15e744a"
      },
      "execution_count": 21,
      "outputs": [
        {
          "name": "stdout",
          "output_type": "stream",
          "text": [
            "Choose an index position: 2\n"
          ]
        }
      ]
    },
    {
      "cell_type": "code",
      "source": [
        "type(position_index)"
      ],
      "metadata": {
        "colab": {
          "base_uri": "https://localhost:8080/"
        },
        "id": "7UGZP5H3sOP4",
        "outputId": "e24d6e23-0542-4284-fa02-d0123e1f8292"
      },
      "execution_count": 22,
      "outputs": [
        {
          "output_type": "execute_result",
          "data": {
            "text/plain": [
              "int"
            ]
          },
          "metadata": {},
          "execution_count": 22
        }
      ]
    },
    {
      "cell_type": "code",
      "source": [
        "row1[position_index]"
      ],
      "metadata": {
        "colab": {
          "base_uri": "https://localhost:8080/",
          "height": 35
        },
        "id": "6MSBOnfvtOa1",
        "outputId": "9f926589-f1f3-4d26-96e2-383c339f00f6"
      },
      "execution_count": 24,
      "outputs": [
        {
          "output_type": "execute_result",
          "data": {
            "text/plain": [
              "' '"
            ],
            "application/vnd.google.colaboratory.intrinsic+json": {
              "type": "string"
            }
          },
          "metadata": {},
          "execution_count": 24
        }
      ]
    },
    {
      "cell_type": "code",
      "source": [
        "def user_choice():\n",
        "\n",
        "  # VARIABLES\n",
        "\n",
        "  # Initial\n",
        "  choice = 'WRONG'\n",
        "  acceptable_range = range(0, 10)\n",
        "  within_range = False\n",
        "\n",
        "  # TWO CONDITIONS TO CHECK\n",
        "  # DIGIT OR WITHIN_RANGE == False\n",
        "  while choice.isdigit() == False or within_range == False:\n",
        "\n",
        "    choice = input(\"Please enter a number(0-10): \")\n",
        "\n",
        "    # DIGIT CHECK\n",
        "    if choice.isdigit() == False:\n",
        "      print(\"Sorry that is not a digit!\")\n",
        "\n",
        "    # RANGE CHECK\n",
        "    if choice.isdigit():\n",
        "      if int(choice) in acceptable_range:\n",
        "        within_range = True\n",
        "      else:\n",
        "        within_range = False\n",
        "\n",
        "  return int(choice)"
      ],
      "metadata": {
        "id": "vViydUW6t4fo"
      },
      "execution_count": 3,
      "outputs": []
    },
    {
      "cell_type": "code",
      "source": [
        "user_choice()"
      ],
      "metadata": {
        "colab": {
          "base_uri": "https://localhost:8080/"
        },
        "id": "Y_Vvbf0dw1NV",
        "outputId": "baf0d99a-3274-430a-bb75-8f7acda26b58"
      },
      "execution_count": 4,
      "outputs": [
        {
          "name": "stdout",
          "output_type": "stream",
          "text": [
            "Please enter a number(0-10): 34\n",
            "Please enter a number(0-10): 11\n",
            "Please enter a number(0-10): i\n",
            "Sorry that is not a digit!\n",
            "Please enter a number(0-10): 7\n"
          ]
        },
        {
          "output_type": "execute_result",
          "data": {
            "text/plain": [
              "7"
            ]
          },
          "metadata": {},
          "execution_count": 4
        }
      ]
    },
    {
      "cell_type": "code",
      "source": [
        "some_value = '100'\n"
      ],
      "metadata": {
        "id": "rBNKuhf-w3SS"
      },
      "execution_count": 29,
      "outputs": []
    },
    {
      "cell_type": "code",
      "source": [
        "some_value.isdigit()"
      ],
      "metadata": {
        "colab": {
          "base_uri": "https://localhost:8080/"
        },
        "id": "1XZ1cxm2yDmC",
        "outputId": "b03e194b-b6f6-4150-98f0-564ee32ce966"
      },
      "execution_count": 30,
      "outputs": [
        {
          "output_type": "execute_result",
          "data": {
            "text/plain": [
              "True"
            ]
          },
          "metadata": {},
          "execution_count": 30
        }
      ]
    },
    {
      "cell_type": "code",
      "source": [
        "acceptable_value = [0, 1, 2]"
      ],
      "metadata": {
        "id": "t8tTr8efyKnz"
      },
      "execution_count": 34,
      "outputs": []
    },
    {
      "cell_type": "code",
      "source": [
        "result in acceptable_value"
      ],
      "metadata": {
        "colab": {
          "base_uri": "https://localhost:8080/"
        },
        "id": "j8G3JYg3zYmK",
        "outputId": "9be14cdf-efc2-46f2-e6aa-913bca3b1ec4"
      },
      "execution_count": 35,
      "outputs": [
        {
          "output_type": "execute_result",
          "data": {
            "text/plain": [
              "False"
            ]
          },
          "metadata": {},
          "execution_count": 35
        }
      ]
    },
    {
      "cell_type": "code",
      "source": [
        ""
      ],
      "metadata": {
        "id": "RAfNZOc1zfbA"
      },
      "execution_count": null,
      "outputs": []
    }
  ]
}