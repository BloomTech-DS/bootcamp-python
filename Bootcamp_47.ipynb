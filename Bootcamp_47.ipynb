{
  "nbformat": 4,
  "nbformat_minor": 0,
  "metadata": {
    "colab": {
      "name": "Bootcamp_47.ipynb",
      "provenance": [],
      "authorship_tag": "ABX9TyNdQ9m7Bu6FGiEJ1WWpp+ck",
      "include_colab_link": true
    },
    "kernelspec": {
      "name": "python3",
      "display_name": "Python 3"
    },
    "language_info": {
      "name": "python"
    }
  },
  "cells": [
    {
      "cell_type": "markdown",
      "metadata": {
        "id": "view-in-github",
        "colab_type": "text"
      },
      "source": [
        "<a href=\"https://colab.research.google.com/github/rjgeng/colab-python/blob/main/Bootcamp_47.ipynb\" target=\"_parent\"><img src=\"https://colab.research.google.com/assets/colab-badge.svg\" alt=\"Open In Colab\"/></a>"
      ]
    },
    {
      "cell_type": "code",
      "execution_count": 1,
      "metadata": {
        "id": "OPOuYUf2IJ0R"
      },
      "outputs": [],
      "source": [
        "example = [1,2,3,4,5,6,7]"
      ]
    },
    {
      "cell_type": "code",
      "source": [
        "from random import shuffle"
      ],
      "metadata": {
        "id": "O4v_LNUsIre_"
      },
      "execution_count": 2,
      "outputs": []
    },
    {
      "cell_type": "code",
      "source": [
        "shuffle(example)"
      ],
      "metadata": {
        "id": "2u3r5RMiIvYz"
      },
      "execution_count": 3,
      "outputs": []
    },
    {
      "cell_type": "code",
      "source": [
        "example"
      ],
      "metadata": {
        "colab": {
          "base_uri": "https://localhost:8080/"
        },
        "id": "6H31KIYRIyJz",
        "outputId": "90e1809f-d19c-4d1e-fe09-a67721a9b96a"
      },
      "execution_count": 4,
      "outputs": [
        {
          "output_type": "execute_result",
          "data": {
            "text/plain": [
              "[3, 6, 4, 2, 7, 1, 5]"
            ]
          },
          "metadata": {},
          "execution_count": 4
        }
      ]
    },
    {
      "cell_type": "code",
      "source": [
        "def shuffle_list(mylist):\n",
        "  shuffle(mylist)\n",
        "  return mylist"
      ],
      "metadata": {
        "id": "lGlaCemrI0T1"
      },
      "execution_count": 5,
      "outputs": []
    },
    {
      "cell_type": "code",
      "source": [
        "result = shuffle_list(example)"
      ],
      "metadata": {
        "id": "V5-HUeEUJGZv"
      },
      "execution_count": 6,
      "outputs": []
    },
    {
      "cell_type": "code",
      "source": [
        "result"
      ],
      "metadata": {
        "colab": {
          "base_uri": "https://localhost:8080/"
        },
        "id": "hfRQS95XJLCm",
        "outputId": "0f260fa8-1d3c-4bdb-8ef7-3a22457aa620"
      },
      "execution_count": 7,
      "outputs": [
        {
          "output_type": "execute_result",
          "data": {
            "text/plain": [
              "[5, 4, 2, 1, 3, 6, 7]"
            ]
          },
          "metadata": {},
          "execution_count": 7
        }
      ]
    },
    {
      "cell_type": "code",
      "source": [
        "mylist = [\" \", \"O\", \" \"]"
      ],
      "metadata": {
        "id": "grnT_cuxJMC-"
      },
      "execution_count": 8,
      "outputs": []
    },
    {
      "cell_type": "code",
      "source": [
        "shuffle_list(mylist)"
      ],
      "metadata": {
        "colab": {
          "base_uri": "https://localhost:8080/"
        },
        "id": "g-PuqK4iJWs_",
        "outputId": "72b88fab-9587-4fda-dcb1-6223678cdafd"
      },
      "execution_count": 9,
      "outputs": [
        {
          "output_type": "execute_result",
          "data": {
            "text/plain": [
              "['O', ' ', ' ']"
            ]
          },
          "metadata": {},
          "execution_count": 9
        }
      ]
    },
    {
      "cell_type": "code",
      "source": [
        "def player_guess():\n",
        "  guess= ' '\n",
        "  while guess not in ['0', '1', '2']:\n",
        "    guess = input(\"Pick a number: 0, 1, or 2: \")\n",
        "\n",
        "  return int(guess)"
      ],
      "metadata": {
        "id": "SPILdJqPJaLY"
      },
      "execution_count": 14,
      "outputs": []
    },
    {
      "cell_type": "code",
      "source": [
        "player_guess()"
      ],
      "metadata": {
        "colab": {
          "base_uri": "https://localhost:8080/"
        },
        "id": "dPZUOA8oKGQz",
        "outputId": "d27f6e8a-7cce-42a8-dcc7-cf343eb81e66"
      },
      "execution_count": 15,
      "outputs": [
        {
          "name": "stdout",
          "output_type": "stream",
          "text": [
            "Pick a number: 0, 1, or 2: 3\n",
            "Pick a number: 0, 1, or 2: 2\n"
          ]
        },
        {
          "output_type": "execute_result",
          "data": {
            "text/plain": [
              "2"
            ]
          },
          "metadata": {},
          "execution_count": 15
        }
      ]
    },
    {
      "cell_type": "code",
      "source": [
        "myindex = player_guess()"
      ],
      "metadata": {
        "colab": {
          "base_uri": "https://localhost:8080/"
        },
        "id": "o79SW4ntKbZz",
        "outputId": "a5ec00aa-8b12-460e-a532-0625614515b7"
      },
      "execution_count": 16,
      "outputs": [
        {
          "name": "stdout",
          "output_type": "stream",
          "text": [
            "Pick a number: 0, 1, or 2: 2\n"
          ]
        }
      ]
    },
    {
      "cell_type": "code",
      "source": [
        "myindex\n"
      ],
      "metadata": {
        "colab": {
          "base_uri": "https://localhost:8080/"
        },
        "id": "e8TIm4rjKiaG",
        "outputId": "d83edebc-0b88-4e1c-8e88-424e319f081f"
      },
      "execution_count": 17,
      "outputs": [
        {
          "output_type": "execute_result",
          "data": {
            "text/plain": [
              "2"
            ]
          },
          "metadata": {},
          "execution_count": 17
        }
      ]
    },
    {
      "cell_type": "code",
      "source": [
        "def check_guess(mylist, guess):\n",
        "  if mylist[guess] == 'O':\n",
        "    print('Correct!')\n",
        "  else:\n",
        "    print('Wrong!')   \n",
        "    print(mylist)"
      ],
      "metadata": {
        "id": "2PG0bNGQKok-"
      },
      "execution_count": 23,
      "outputs": []
    },
    {
      "cell_type": "code",
      "source": [
        "# INITAL LIST\n",
        "mylist = ['','O','']\n",
        "\n",
        "# SHUFFLE LIST\n",
        "mixedup_list = shuffle_list(mylist)\n",
        "\n",
        "# USER GUESS\n",
        "guess = player_guess()\n",
        "\n",
        "# CHECK GUESS\n",
        "check_guess(mixedup_list, guess)\n"
      ],
      "metadata": {
        "colab": {
          "base_uri": "https://localhost:8080/"
        },
        "id": "iVG-DKIeMGIx",
        "outputId": "7375bdab-96c9-40ea-c43c-f412b3b23b24"
      },
      "execution_count": 25,
      "outputs": [
        {
          "output_type": "stream",
          "name": "stdout",
          "text": [
            "Pick a number: 0, 1, or 2: 2\n",
            "Wrong!\n",
            "['O', '', '']\n"
          ]
        }
      ]
    },
    {
      "cell_type": "code",
      "source": [
        ""
      ],
      "metadata": {
        "id": "Z5H26TgzNq-N"
      },
      "execution_count": 24,
      "outputs": []
    }
  ]
}