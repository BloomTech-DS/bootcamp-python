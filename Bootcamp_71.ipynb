{
  "nbformat": 4,
  "nbformat_minor": 0,
  "metadata": {
    "colab": {
      "name": "Bootcamp_71.ipynb",
      "provenance": [],
      "authorship_tag": "ABX9TyOFWPCa0f9s0viirRNSzdKk",
      "include_colab_link": true
    },
    "kernelspec": {
      "name": "python3",
      "display_name": "Python 3"
    },
    "language_info": {
      "name": "python"
    }
  },
  "cells": [
    {
      "cell_type": "markdown",
      "metadata": {
        "id": "view-in-github",
        "colab_type": "text"
      },
      "source": [
        "<a href=\"https://colab.research.google.com/github/BloomTech-DS/bootcamp-python/blob/main/Bootcamp_71.ipynb\" target=\"_parent\"><img src=\"https://colab.research.google.com/assets/colab-badge.svg\" alt=\"Open In Colab\"/></a>"
      ]
    },
    {
      "cell_type": "markdown",
      "source": [
        "# 71. Object Oriented Programming - Inheritance and Polymorphism\n",
        "\n",
        "## Inheritance"
      ],
      "metadata": {
        "id": "SN7Q9e77oU01"
      }
    },
    {
      "cell_type": "code",
      "execution_count": 3,
      "metadata": {
        "id": "3zx-gs_ne0Jq"
      },
      "outputs": [],
      "source": [
        "class Animal():\n",
        "\n",
        "\n",
        "  def __init__(self):\n",
        "    print(\"ANIMAL CREATED\")\n",
        "\n",
        "  def who_am_i(self):\n",
        "    print(\"I am an animal\")\n",
        "\n",
        "  def eat(self):\n",
        "    print(\"I am eating\")"
      ]
    },
    {
      "cell_type": "code",
      "source": [
        "myanimal = Animal()"
      ],
      "metadata": {
        "colab": {
          "base_uri": "https://localhost:8080/"
        },
        "id": "cVvfTTZAoz6a",
        "outputId": "df6c980a-4403-4f83-90d6-f649832079aa"
      },
      "execution_count": 4,
      "outputs": [
        {
          "output_type": "stream",
          "name": "stdout",
          "text": [
            "ANIMAL CREATED\n"
          ]
        }
      ]
    },
    {
      "cell_type": "code",
      "source": [
        "myanimal.eat()"
      ],
      "metadata": {
        "colab": {
          "base_uri": "https://localhost:8080/"
        },
        "id": "Lek-gwGvo5f0",
        "outputId": "202cb02a-6e4b-4db8-86f2-818c8636849a"
      },
      "execution_count": 5,
      "outputs": [
        {
          "output_type": "stream",
          "name": "stdout",
          "text": [
            "I am eating\n"
          ]
        }
      ]
    },
    {
      "cell_type": "code",
      "source": [
        "myanimal.who_am_i()"
      ],
      "metadata": {
        "colab": {
          "base_uri": "https://localhost:8080/"
        },
        "id": "O1xHBzSXpd0b",
        "outputId": "9f797c6d-9728-4bd8-d9b8-119ce75bcccf"
      },
      "execution_count": 6,
      "outputs": [
        {
          "output_type": "stream",
          "name": "stdout",
          "text": [
            "I am an animal\n"
          ]
        }
      ]
    },
    {
      "cell_type": "code",
      "source": [
        "class Dog(Animal):\n",
        "\n",
        "  def __init__(self):\n",
        "    Animal.__init__(self)\n",
        "    print(\"Dog Created\")\n",
        "\n",
        "  def who_am_i(self):\n",
        "    print(\"I am a dog\")\n",
        "\n",
        "  def bark(self):\n",
        "    print(\"WOOF!\")"
      ],
      "metadata": {
        "id": "DLTjplKVpk7L"
      },
      "execution_count": 15,
      "outputs": []
    },
    {
      "cell_type": "code",
      "source": [
        "mydog = Dog()"
      ],
      "metadata": {
        "colab": {
          "base_uri": "https://localhost:8080/"
        },
        "id": "2tOeP8LGqI5y",
        "outputId": "c35ec61f-d58c-41a7-8940-fcb4bd81347b"
      },
      "execution_count": 16,
      "outputs": [
        {
          "output_type": "stream",
          "name": "stdout",
          "text": [
            "ANIMAL CREATED\n",
            "Dog Created\n"
          ]
        }
      ]
    },
    {
      "cell_type": "code",
      "source": [
        "mydog.eat()"
      ],
      "metadata": {
        "colab": {
          "base_uri": "https://localhost:8080/"
        },
        "id": "xVkrVG3QqLcW",
        "outputId": "a4f3a81d-b3f3-4aab-c973-f40cb9a055a9"
      },
      "execution_count": 17,
      "outputs": [
        {
          "output_type": "stream",
          "name": "stdout",
          "text": [
            "I am eating\n"
          ]
        }
      ]
    },
    {
      "cell_type": "code",
      "source": [
        "mydog.who_am_i()"
      ],
      "metadata": {
        "colab": {
          "base_uri": "https://localhost:8080/"
        },
        "id": "PZv8Xw9bqt9p",
        "outputId": "8c6fe67c-d027-4000-f70a-bd895dbe93c5"
      },
      "execution_count": 18,
      "outputs": [
        {
          "output_type": "stream",
          "name": "stdout",
          "text": [
            "I am a dog\n"
          ]
        }
      ]
    },
    {
      "cell_type": "code",
      "source": [
        "mydog.bark()"
      ],
      "metadata": {
        "colab": {
          "base_uri": "https://localhost:8080/"
        },
        "id": "kN8SUEiFq01C",
        "outputId": "88bebade-7f8a-4f1f-bec4-2512f2cb5c1c"
      },
      "execution_count": 19,
      "outputs": [
        {
          "output_type": "stream",
          "name": "stdout",
          "text": [
            "WOOF!\n"
          ]
        }
      ]
    },
    {
      "cell_type": "markdown",
      "source": [
        "##  Polymorphism"
      ],
      "metadata": {
        "id": "rV8TCv1FrjDI"
      }
    },
    {
      "cell_type": "code",
      "source": [
        "class Dog():\n",
        "\n",
        "  def __init__(self, name):\n",
        "    self.name = name\n",
        "\n",
        "  def speak(self):\n",
        "    return self.name + \"says woof!\""
      ],
      "metadata": {
        "id": "yRvPJktdrNLc"
      },
      "execution_count": 20,
      "outputs": []
    },
    {
      "cell_type": "code",
      "source": [
        "class Cat():\n",
        "\n",
        "  def __init__(self, name):\n",
        "    self.name = name\n",
        "\n",
        "  def speak(self):\n",
        "    return self.name + \"says meow!\""
      ],
      "metadata": {
        "id": "3STDNpAhsJvc"
      },
      "execution_count": 21,
      "outputs": []
    },
    {
      "cell_type": "code",
      "source": [
        "niko = Dog(\"niko\")\n",
        "felix = Cat(\"felix\")"
      ],
      "metadata": {
        "id": "vHsn_ZhnsSjS"
      },
      "execution_count": 26,
      "outputs": []
    },
    {
      "cell_type": "code",
      "source": [
        "print(felix.speak())"
      ],
      "metadata": {
        "colab": {
          "base_uri": "https://localhost:8080/"
        },
        "id": "74gP2ClGsdY6",
        "outputId": "54c8a60c-43f0-484b-b451-e12b5856104b"
      },
      "execution_count": 27,
      "outputs": [
        {
          "output_type": "stream",
          "name": "stdout",
          "text": [
            "felixsays meow!\n"
          ]
        }
      ]
    },
    {
      "cell_type": "code",
      "source": [
        "print(niko.speak())"
      ],
      "metadata": {
        "colab": {
          "base_uri": "https://localhost:8080/"
        },
        "id": "dXLQBEq6sgpj",
        "outputId": "4fb1ada1-5a13-44b9-9e11-9485629c42b4"
      },
      "execution_count": 28,
      "outputs": [
        {
          "output_type": "stream",
          "name": "stdout",
          "text": [
            "nikosays woof!\n"
          ]
        }
      ]
    },
    {
      "cell_type": "code",
      "source": [
        "for pet in [niko, felix]:\n",
        "\n",
        "  print(type(pet))\n",
        "  print(pet.speak())"
      ],
      "metadata": {
        "colab": {
          "base_uri": "https://localhost:8080/"
        },
        "id": "nAjl5bdrsocE",
        "outputId": "3a60ffa7-444d-49d8-b737-32498f1689cc"
      },
      "execution_count": 29,
      "outputs": [
        {
          "output_type": "stream",
          "name": "stdout",
          "text": [
            "<class '__main__.Dog'>\n",
            "nikosays woof!\n",
            "<class '__main__.Cat'>\n",
            "felixsays meow!\n"
          ]
        }
      ]
    },
    {
      "cell_type": "code",
      "source": [
        "def pet_speak(pet):\n",
        "  print(pet.speak())"
      ],
      "metadata": {
        "id": "qhZRJx5stUFw"
      },
      "execution_count": 30,
      "outputs": []
    },
    {
      "cell_type": "code",
      "source": [
        "pet_speak(niko)"
      ],
      "metadata": {
        "colab": {
          "base_uri": "https://localhost:8080/"
        },
        "id": "EdxG-VM5toth",
        "outputId": "372c7db7-0883-4bae-bbb4-b6b74921198b"
      },
      "execution_count": 31,
      "outputs": [
        {
          "output_type": "stream",
          "name": "stdout",
          "text": [
            "nikosays woof!\n"
          ]
        }
      ]
    },
    {
      "cell_type": "code",
      "source": [
        "pet_speak(felix)"
      ],
      "metadata": {
        "colab": {
          "base_uri": "https://localhost:8080/"
        },
        "id": "2fn5wDx8trTZ",
        "outputId": "fee956ea-e102-4ebf-f472-4a9b7b723824"
      },
      "execution_count": 32,
      "outputs": [
        {
          "output_type": "stream",
          "name": "stdout",
          "text": [
            "felixsays meow!\n"
          ]
        }
      ]
    },
    {
      "cell_type": "code",
      "source": [
        "class Animal():\n",
        "\n",
        "  def __init__(self, name):\n",
        "    self.name = name\n",
        "\n",
        "  def speak(self):\n",
        "    raise NotImplementedError(\"Subclass must implement this abstract method\")\n"
      ],
      "metadata": {
        "id": "dSXLyeXxtt76"
      },
      "execution_count": 33,
      "outputs": []
    },
    {
      "cell_type": "code",
      "source": [
        "class Dog(Animal):\n",
        "\n",
        "  def speak(self):\n",
        "    return self.name + \" says woof!\""
      ],
      "metadata": {
        "id": "l0TRkZIQxkyA"
      },
      "execution_count": 36,
      "outputs": []
    },
    {
      "cell_type": "code",
      "source": [
        "class Cat(Animal):\n",
        "\n",
        "  def speak(self):\n",
        "    return self.name + \" says meow!\""
      ],
      "metadata": {
        "id": "Zs6ZONixxrZZ"
      },
      "execution_count": 37,
      "outputs": []
    },
    {
      "cell_type": "code",
      "source": [
        "fido = Dog(\"Fido\")"
      ],
      "metadata": {
        "id": "sPwfA1RYxxYZ"
      },
      "execution_count": 38,
      "outputs": []
    },
    {
      "cell_type": "code",
      "source": [
        "isis = Cat(\"Isis\")"
      ],
      "metadata": {
        "id": "KNKT90dzyWg_"
      },
      "execution_count": 39,
      "outputs": []
    },
    {
      "cell_type": "code",
      "source": [
        "print(fido.speak())"
      ],
      "metadata": {
        "colab": {
          "base_uri": "https://localhost:8080/"
        },
        "id": "KSJ8TuplyZt2",
        "outputId": "97270d67-c581-41b4-b392-e510b7833f25"
      },
      "execution_count": 40,
      "outputs": [
        {
          "output_type": "stream",
          "name": "stdout",
          "text": [
            "Fido says woof!\n"
          ]
        }
      ]
    },
    {
      "cell_type": "code",
      "source": [
        "print(isis.speak())"
      ],
      "metadata": {
        "colab": {
          "base_uri": "https://localhost:8080/"
        },
        "id": "KjvELDn6ydg-",
        "outputId": "c4c27331-6e73-4522-c948-798b52f7c7a5"
      },
      "execution_count": 42,
      "outputs": [
        {
          "output_type": "stream",
          "name": "stdout",
          "text": [
            "Isis says meow!\n"
          ]
        }
      ]
    },
    {
      "cell_type": "code",
      "source": [
        ""
      ],
      "metadata": {
        "id": "8Jfuhln9yhyv"
      },
      "execution_count": null,
      "outputs": []
    }
  ]
}