{
  "nbformat": 4,
  "nbformat_minor": 0,
  "metadata": {
    "colab": {
      "name": "Bootcamp_69-70.ipynb",
      "provenance": [],
      "collapsed_sections": [],
      "authorship_tag": "ABX9TyPWt30/QkUgw3MnbPyVtjMS",
      "include_colab_link": true
    },
    "kernelspec": {
      "name": "python3",
      "display_name": "Python 3"
    },
    "language_info": {
      "name": "python"
    }
  },
  "cells": [
    {
      "cell_type": "markdown",
      "metadata": {
        "id": "view-in-github",
        "colab_type": "text"
      },
      "source": [
        "<a href=\"https://colab.research.google.com/github/BloomTech-DS/bootcamp-python/blob/main/Bootcamp_69_70.ipynb\" target=\"_parent\"><img src=\"https://colab.research.google.com/assets/colab-badge.svg\" alt=\"Open In Colab\"/></a>"
      ]
    },
    {
      "cell_type": "markdown",
      "source": [
        "# 69. Object Oriented Programming"
      ],
      "metadata": {
        "id": "4ON1y2hgVVGN"
      }
    },
    {
      "cell_type": "code",
      "source": [
        "mylist = [1, 2, 3]"
      ],
      "metadata": {
        "id": "YfOb2DyhaJwt"
      },
      "execution_count": null,
      "outputs": []
    },
    {
      "cell_type": "code",
      "source": [
        "myset = set()"
      ],
      "metadata": {
        "id": "JbAovbqfaQgT"
      },
      "execution_count": null,
      "outputs": []
    },
    {
      "cell_type": "code",
      "source": [
        "type(myset)"
      ],
      "metadata": {
        "colab": {
          "base_uri": "https://localhost:8080/"
        },
        "id": "RNT78GWVaVH9",
        "outputId": "dae19ce1-363c-4d42-a78b-7aaac2b98816"
      },
      "execution_count": null,
      "outputs": [
        {
          "output_type": "execute_result",
          "data": {
            "text/plain": [
              "set"
            ]
          },
          "metadata": {},
          "execution_count": 4
        }
      ]
    },
    {
      "cell_type": "code",
      "source": [
        "type(mylist)"
      ],
      "metadata": {
        "colab": {
          "base_uri": "https://localhost:8080/"
        },
        "id": "89-mGcMpalz8",
        "outputId": "fd7acb0b-8940-4263-bef4-9ea4f56bf9bb"
      },
      "execution_count": null,
      "outputs": [
        {
          "output_type": "execute_result",
          "data": {
            "text/plain": [
              "list"
            ]
          },
          "metadata": {},
          "execution_count": 5
        }
      ]
    },
    {
      "cell_type": "code",
      "source": [
        "class Dog():\n",
        "\n",
        "  # CLASS OBJECT ATTRIBUTE\n",
        "  # SAME FOR ANY INSTANCE OF A CLASS\n",
        "  species = 'mammal'\n",
        "  \n",
        "  def __init__(self, breed, name, ):\n",
        "\n",
        "    # Attributes\n",
        "    # We take in the argument\n",
        "    # Assign it using self.attriburte_name      \n",
        "    self.breed = breed\n",
        "    self.name = name\n",
        "\n",
        "  # Operations/Actions ---> Methods\n",
        "  def bark(self, number):\n",
        "    print(\"WOOF! My name is {} and the number is {}.\".format(self.name, number))\n"
      ],
      "metadata": {
        "id": "g6WDgzL-ared"
      },
      "execution_count": 54,
      "outputs": []
    },
    {
      "cell_type": "code",
      "source": [
        "my_dog = Dog('Lab', 'Frankie')"
      ],
      "metadata": {
        "id": "H06RNITabTpJ"
      },
      "execution_count": 55,
      "outputs": []
    },
    {
      "cell_type": "code",
      "source": [
        "type(my_dog)"
      ],
      "metadata": {
        "colab": {
          "base_uri": "https://localhost:8080/"
        },
        "id": "x84B4eQEbWup",
        "outputId": "28d38431-2e35-4f47-e13a-2b131faa4b9f"
      },
      "execution_count": 56,
      "outputs": [
        {
          "output_type": "execute_result",
          "data": {
            "text/plain": [
              "__main__.Dog"
            ]
          },
          "metadata": {},
          "execution_count": 56
        }
      ]
    },
    {
      "cell_type": "code",
      "source": [
        "my_dog.species"
      ],
      "metadata": {
        "colab": {
          "base_uri": "https://localhost:8080/",
          "height": 35
        },
        "id": "J7EgEB6tbaSK",
        "outputId": "6612c698-e86c-41d3-ad30-192b275a2e1c"
      },
      "execution_count": 57,
      "outputs": [
        {
          "output_type": "execute_result",
          "data": {
            "text/plain": [
              "'mammal'"
            ],
            "application/vnd.google.colaboratory.intrinsic+json": {
              "type": "string"
            }
          },
          "metadata": {},
          "execution_count": 57
        }
      ]
    },
    {
      "cell_type": "code",
      "source": [
        "my_dog.name"
      ],
      "metadata": {
        "colab": {
          "base_uri": "https://localhost:8080/",
          "height": 35
        },
        "id": "RBCA2n6kcVPX",
        "outputId": "afa1754d-d296-469a-cf7e-893cc160dcee"
      },
      "execution_count": 58,
      "outputs": [
        {
          "output_type": "execute_result",
          "data": {
            "text/plain": [
              "'Frankie'"
            ],
            "application/vnd.google.colaboratory.intrinsic+json": {
              "type": "string"
            }
          },
          "metadata": {},
          "execution_count": 58
        }
      ]
    },
    {
      "cell_type": "code",
      "source": [
        "my_dog.bark(10)"
      ],
      "metadata": {
        "id": "_j1-XtQVeRxe",
        "colab": {
          "base_uri": "https://localhost:8080/"
        },
        "outputId": "af524d10-0d76-432f-a621-e944d9092d31"
      },
      "execution_count": 59,
      "outputs": [
        {
          "output_type": "stream",
          "name": "stdout",
          "text": [
            "WOOF! My name is Frankie and the number is 10.\n"
          ]
        }
      ]
    },
    {
      "cell_type": "code",
      "source": [
        "class Circle():\n",
        "\n",
        "  # CLASS OBJECT ATTRIBUTE\n",
        "  pi = 3.14\n",
        "\n",
        "\n",
        "  def __init__(self, radius = 1):\n",
        "\n",
        "    self.radius = radius\n",
        "    self.area = radius **2 * self.pi\n",
        "\n",
        "  # Method\n",
        "\n",
        "  def get_circumfrence(self):\n",
        "    return self.radius * self.pi * 2\n"
      ],
      "metadata": {
        "id": "sGX5tMbyjCGl"
      },
      "execution_count": 72,
      "outputs": []
    },
    {
      "cell_type": "code",
      "source": [
        "my_circle = Circle(30)"
      ],
      "metadata": {
        "id": "6UfW23oylMfJ"
      },
      "execution_count": 73,
      "outputs": []
    },
    {
      "cell_type": "code",
      "source": [
        "my_circle.pi"
      ],
      "metadata": {
        "colab": {
          "base_uri": "https://localhost:8080/"
        },
        "id": "rV-cZoOAlVfM",
        "outputId": "ae4538b6-5d71-442e-8f30-1a6d851a5001"
      },
      "execution_count": 74,
      "outputs": [
        {
          "output_type": "execute_result",
          "data": {
            "text/plain": [
              "3.14"
            ]
          },
          "metadata": {},
          "execution_count": 74
        }
      ]
    },
    {
      "cell_type": "code",
      "source": [
        "my_circle.radius"
      ],
      "metadata": {
        "colab": {
          "base_uri": "https://localhost:8080/"
        },
        "id": "0jeNHokdlYWe",
        "outputId": "bc4f5c99-c19b-4c19-a38e-ab9551765ff4"
      },
      "execution_count": 75,
      "outputs": [
        {
          "output_type": "execute_result",
          "data": {
            "text/plain": [
              "30"
            ]
          },
          "metadata": {},
          "execution_count": 75
        }
      ]
    },
    {
      "cell_type": "code",
      "source": [
        "my_circle.get_circumfrence()"
      ],
      "metadata": {
        "colab": {
          "base_uri": "https://localhost:8080/"
        },
        "id": "2tkAy4q3leet",
        "outputId": "521121e7-bdec-4ed1-8bae-06dcb2c60c06"
      },
      "execution_count": 76,
      "outputs": [
        {
          "output_type": "execute_result",
          "data": {
            "text/plain": [
              "188.4"
            ]
          },
          "metadata": {},
          "execution_count": 76
        }
      ]
    },
    {
      "cell_type": "code",
      "source": [
        "my_circle.area"
      ],
      "metadata": {
        "colab": {
          "base_uri": "https://localhost:8080/"
        },
        "id": "FyDP9nBUlvC_",
        "outputId": "bd5f4be0-c6c8-4767-d7f3-7c49b1a12d41"
      },
      "execution_count": 77,
      "outputs": [
        {
          "output_type": "execute_result",
          "data": {
            "text/plain": [
              "2826.0"
            ]
          },
          "metadata": {},
          "execution_count": 77
        }
      ]
    },
    {
      "cell_type": "code",
      "source": [
        ""
      ],
      "metadata": {
        "id": "kzwGrv1YmTnT"
      },
      "execution_count": null,
      "outputs": []
    }
  ]
}